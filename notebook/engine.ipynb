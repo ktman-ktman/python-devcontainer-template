{
 "cells": [
  {
   "cell_type": "markdown",
   "metadata": {},
   "source": [
    "# engine"
   ]
  },
  {
   "cell_type": "code",
   "execution_count": 100,
   "metadata": {},
   "outputs": [],
   "source": [
    "from sqlalchemy import create_engine\n",
    "engine = create_engine(\"sqlite+pysqlite:///:memory:\", echo=True, future=True)"
   ]
  },
  {
   "cell_type": "code",
   "execution_count": 101,
   "metadata": {},
   "outputs": [
    {
     "name": "stdout",
     "output_type": "stream",
     "text": [
      "2022-06-15 11:32:29,093 INFO sqlalchemy.engine.Engine BEGIN (implicit)\n",
      "2022-06-15 11:32:29,094 INFO sqlalchemy.engine.Engine select 'hello world'\n",
      "2022-06-15 11:32:29,095 INFO sqlalchemy.engine.Engine [generated in 0.00164s] ()\n",
      "[('hello world',)]\n",
      "2022-06-15 11:32:29,097 INFO sqlalchemy.engine.Engine ROLLBACK\n"
     ]
    }
   ],
   "source": [
    "from sqlalchemy import text\n",
    "with engine.connect() as conn:\n",
    "    result = conn.execute(text(\"select 'hello world'\"))\n",
    "    print(result.all())"
   ]
  },
  {
   "cell_type": "code",
   "execution_count": 102,
   "metadata": {},
   "outputs": [
    {
     "name": "stdout",
     "output_type": "stream",
     "text": [
      "2022-06-15 11:32:29,158 INFO sqlalchemy.engine.Engine BEGIN (implicit)\n",
      "2022-06-15 11:32:29,160 INFO sqlalchemy.engine.Engine CREATE TABLE some_table (x int, y int)\n",
      "2022-06-15 11:32:29,160 INFO sqlalchemy.engine.Engine [generated in 0.00206s] ()\n",
      "2022-06-15 11:32:29,162 INFO sqlalchemy.engine.Engine INSERT INTO some_table (x, y) VALUES (?, ?)\n",
      "2022-06-15 11:32:29,163 INFO sqlalchemy.engine.Engine [generated in 0.00092s] ((1, 1), (2, 4))\n",
      "2022-06-15 11:32:29,164 INFO sqlalchemy.engine.Engine COMMIT\n"
     ]
    }
   ],
   "source": [
    "with engine.connect() as conn:\n",
    "    conn.execute(text(\"CREATE TABLE some_table (x int, y int)\"))\n",
    "    conn.execute(\n",
    "        text(\"INSERT INTO some_table (x, y) VALUES (:x, :y)\"),\n",
    "        [{\"x\": 1, \"y\": 1}, {\"x\": 2, \"y\": 4}]\n",
    "    )\n",
    "    conn.commit()"
   ]
  },
  {
   "cell_type": "code",
   "execution_count": 103,
   "metadata": {},
   "outputs": [
    {
     "name": "stdout",
     "output_type": "stream",
     "text": [
      "2022-06-15 11:32:29,231 INFO sqlalchemy.engine.Engine BEGIN (implicit)\n",
      "2022-06-15 11:32:29,233 INFO sqlalchemy.engine.Engine INSERT INTO some_table (x, y) VALUES (?, ?)\n",
      "2022-06-15 11:32:29,234 INFO sqlalchemy.engine.Engine [cached since 0.07173s ago] ((6, 8), (9, 10))\n",
      "2022-06-15 11:32:29,235 INFO sqlalchemy.engine.Engine COMMIT\n"
     ]
    }
   ],
   "source": [
    "with engine.begin() as conn:\n",
    "    conn.execute(\n",
    "        text(\"INSERT INTO some_table (x, y) VALUES (:x, :y)\"),\n",
    "        [{\"x\": 6, \"y\": 8}, {\"x\": 9, \"y\": 10}]\n",
    "    )"
   ]
  },
  {
   "cell_type": "code",
   "execution_count": 104,
   "metadata": {},
   "outputs": [
    {
     "name": "stdout",
     "output_type": "stream",
     "text": [
      "2022-06-15 11:32:29,291 INFO sqlalchemy.engine.Engine BEGIN (implicit)\n",
      "2022-06-15 11:32:29,292 INFO sqlalchemy.engine.Engine SELECT x, y FROM some_table\n",
      "2022-06-15 11:32:29,293 INFO sqlalchemy.engine.Engine [generated in 0.00272s] ()\n",
      "x: 1, y: 1\n",
      "x: 2, y: 4\n",
      "x: 6, y: 8\n",
      "x: 9, y: 10\n",
      "2022-06-15 11:32:29,296 INFO sqlalchemy.engine.Engine ROLLBACK\n"
     ]
    }
   ],
   "source": [
    "with engine.connect() as conn:\n",
    "    result = conn.execute(text(\"SELECT x, y FROM some_table\"))\n",
    "    for row in result:\n",
    "        print(f\"x: {row.x}, y: {row.y}\")"
   ]
  },
  {
   "cell_type": "code",
   "execution_count": 105,
   "metadata": {},
   "outputs": [
    {
     "name": "stdout",
     "output_type": "stream",
     "text": [
      "2022-06-15 11:32:29,342 INFO sqlalchemy.engine.Engine BEGIN (implicit)\n",
      "2022-06-15 11:32:29,344 INFO sqlalchemy.engine.Engine SELECT x, y FROM some_table WHERE y >= ?\n",
      "2022-06-15 11:32:29,345 INFO sqlalchemy.engine.Engine [generated in 0.00295s] (2,)\n",
      "x: 2, y: 4\n",
      "x: 6, y: 8\n",
      "x: 9, y: 10\n",
      "2022-06-15 11:32:29,347 INFO sqlalchemy.engine.Engine ROLLBACK\n"
     ]
    }
   ],
   "source": [
    "with engine.connect() as conn:\n",
    "    result = conn.execute(text(\"SELECT x, y FROM some_table WHERE y >= :y\"), {\"y\": 2})\n",
    "    for row in result:\n",
    "        print(f\"x: {row.x}, y: {row.y}\")"
   ]
  },
  {
   "cell_type": "code",
   "execution_count": 106,
   "metadata": {},
   "outputs": [
    {
     "name": "stdout",
     "output_type": "stream",
     "text": [
      "2022-06-15 11:32:29,399 INFO sqlalchemy.engine.Engine BEGIN (implicit)\n",
      "2022-06-15 11:32:29,400 INFO sqlalchemy.engine.Engine INSERT INTO some_table (x, y) VALUES (?, ?)\n",
      "2022-06-15 11:32:29,401 INFO sqlalchemy.engine.Engine [cached since 0.2391s ago] ((11, 12), (13, 14))\n",
      "2022-06-15 11:32:29,403 INFO sqlalchemy.engine.Engine COMMIT\n"
     ]
    }
   ],
   "source": [
    "with engine.connect() as conn:\n",
    "    conn.execute(\n",
    "        text(\"INSERT INTO some_table (x, y) VALUES (:x, :y)\"),\n",
    "        [{\"x\": 11, \"y\": 12}, {\"x\": 13, \"y\": 14}]\n",
    "    )\n",
    "    conn.commit()"
   ]
  },
  {
   "cell_type": "code",
   "execution_count": 107,
   "metadata": {},
   "outputs": [
    {
     "name": "stdout",
     "output_type": "stream",
     "text": [
      "2022-06-15 11:32:29,454 INFO sqlalchemy.engine.Engine BEGIN (implicit)\n",
      "2022-06-15 11:32:29,456 INFO sqlalchemy.engine.Engine SELECT x, y FROM some_table WHERE y > ? ORDER BY x, y\n",
      "2022-06-15 11:32:29,457 INFO sqlalchemy.engine.Engine [generated in 0.00291s] (6,)\n",
      "x: 6, y: 8\n",
      "x: 9, y: 10\n",
      "x: 11, y: 12\n",
      "x: 13, y: 14\n",
      "2022-06-15 11:32:29,460 INFO sqlalchemy.engine.Engine ROLLBACK\n"
     ]
    }
   ],
   "source": [
    "stmt = text(\"SELECT x, y FROM some_table WHERE y > :y ORDER BY x, y\").bindparams(y=6)\n",
    "with engine.connect() as conn:\n",
    "    result = conn.execute(stmt)\n",
    "    for row in result:\n",
    "        print(f\"x: {row.x}, y: {row.y}\")"
   ]
  },
  {
   "cell_type": "code",
   "execution_count": 108,
   "metadata": {},
   "outputs": [
    {
     "name": "stdout",
     "output_type": "stream",
     "text": [
      "2022-06-15 11:32:29,509 INFO sqlalchemy.engine.Engine BEGIN (implicit)\n",
      "2022-06-15 11:32:29,510 INFO sqlalchemy.engine.Engine SELECT x, y FROM some_table WHERE y > ? ORDER BY x, y\n",
      "2022-06-15 11:32:29,511 INFO sqlalchemy.engine.Engine [cached since 0.05665s ago] (6,)\n",
      "x: 6, y: 8\n",
      "x: 9, y: 10\n",
      "x: 11, y: 12\n",
      "x: 13, y: 14\n",
      "2022-06-15 11:32:29,513 INFO sqlalchemy.engine.Engine ROLLBACK\n"
     ]
    }
   ],
   "source": [
    "from sqlalchemy.orm import Session\n",
    "\n",
    "stmt = text(\"SELECT x, y FROM some_table WHERE y > :y ORDER BY x, y\").bindparams(y=6)\n",
    "with Session(engine) as session:\n",
    "    result = session.execute(stmt)\n",
    "    for row in result:\n",
    "        print(f\"x: {row.x}, y: {row.y}\")"
   ]
  },
  {
   "cell_type": "code",
   "execution_count": 109,
   "metadata": {},
   "outputs": [
    {
     "name": "stdout",
     "output_type": "stream",
     "text": [
      "2022-06-15 11:32:29,576 INFO sqlalchemy.engine.Engine BEGIN (implicit)\n",
      "2022-06-15 11:32:29,578 INFO sqlalchemy.engine.Engine UPDATE some_table SET y=? WHERE x=?\n",
      "2022-06-15 11:32:29,579 INFO sqlalchemy.engine.Engine [generated in 0.00098s] ((11, 9), (15, 13))\n",
      "2022-06-15 11:32:29,580 INFO sqlalchemy.engine.Engine COMMIT\n"
     ]
    }
   ],
   "source": [
    "with Session(engine) as session:\n",
    "    result = session.execute(\n",
    "        text(\"UPDATE some_table SET y=:y WHERE x=:x\"),\n",
    "        [{\"x\": 9, \"y\": 11}, {\"x\": 13, \"y\": 15}]\n",
    "    )\n",
    "    session.commit()"
   ]
  },
  {
   "cell_type": "code",
   "execution_count": 110,
   "metadata": {},
   "outputs": [],
   "source": [
    "from sqlalchemy import MetaData\n",
    "metadata_obj = MetaData()"
   ]
  },
  {
   "cell_type": "code",
   "execution_count": 111,
   "metadata": {},
   "outputs": [],
   "source": [
    "from sqlalchemy import Table, Column, Integer, String\n",
    "user_table = Table(\n",
    "    \"user_account\",\n",
    "    metadata_obj,\n",
    "    Column(\"id\", Integer, primary_key=True),\n",
    "    Column(\"name\", String(30)),\n",
    "    Column(\"fullname\", String),\n",
    ")"
   ]
  },
  {
   "cell_type": "code",
   "execution_count": 112,
   "metadata": {},
   "outputs": [
    {
     "data": {
      "text/plain": [
       "Column('name', String(length=30), table=<user_account>)"
      ]
     },
     "execution_count": 112,
     "metadata": {},
     "output_type": "execute_result"
    }
   ],
   "source": [
    "user_table.c.name"
   ]
  },
  {
   "cell_type": "code",
   "execution_count": 113,
   "metadata": {},
   "outputs": [
    {
     "data": {
      "text/plain": [
       "['id', 'name', 'fullname']"
      ]
     },
     "execution_count": 113,
     "metadata": {},
     "output_type": "execute_result"
    }
   ],
   "source": [
    "user_table.c.keys()"
   ]
  },
  {
   "cell_type": "code",
   "execution_count": 114,
   "metadata": {},
   "outputs": [
    {
     "data": {
      "text/plain": [
       "PrimaryKeyConstraint(Column('id', Integer(), table=<user_account>, primary_key=True, nullable=False))"
      ]
     },
     "execution_count": 114,
     "metadata": {},
     "output_type": "execute_result"
    }
   ],
   "source": [
    "user_table.primary_key"
   ]
  },
  {
   "cell_type": "code",
   "execution_count": 115,
   "metadata": {},
   "outputs": [],
   "source": [
    "from sqlalchemy import ForeignKey\n",
    "address_table = Table(\n",
    "    \"address\",\n",
    "    metadata_obj,\n",
    "    Column(\"id\", Integer, primary_key=True),\n",
    "    Column(\"user_id\", ForeignKey(\"user_account.id\"), nullable=False),\n",
    "    Column(\"email_address\", String, nullable=False),\n",
    ")"
   ]
  },
  {
   "cell_type": "code",
   "execution_count": 116,
   "metadata": {},
   "outputs": [
    {
     "name": "stdout",
     "output_type": "stream",
     "text": [
      "2022-06-15 11:32:30,020 INFO sqlalchemy.engine.Engine BEGIN (implicit)\n",
      "2022-06-15 11:32:30,022 INFO sqlalchemy.engine.Engine PRAGMA main.table_info(\"user_account\")\n",
      "2022-06-15 11:32:30,023 INFO sqlalchemy.engine.Engine [raw sql] ()\n",
      "2022-06-15 11:32:30,024 INFO sqlalchemy.engine.Engine PRAGMA temp.table_info(\"user_account\")\n",
      "2022-06-15 11:32:30,025 INFO sqlalchemy.engine.Engine [raw sql] ()\n",
      "2022-06-15 11:32:30,026 INFO sqlalchemy.engine.Engine PRAGMA main.table_info(\"address\")\n",
      "2022-06-15 11:32:30,027 INFO sqlalchemy.engine.Engine [raw sql] ()\n",
      "2022-06-15 11:32:30,029 INFO sqlalchemy.engine.Engine PRAGMA temp.table_info(\"address\")\n",
      "2022-06-15 11:32:30,029 INFO sqlalchemy.engine.Engine [raw sql] ()\n",
      "2022-06-15 11:32:30,031 INFO sqlalchemy.engine.Engine \n",
      "CREATE TABLE user_account (\n",
      "\tid INTEGER NOT NULL, \n",
      "\tname VARCHAR(30), \n",
      "\tfullname VARCHAR, \n",
      "\tPRIMARY KEY (id)\n",
      ")\n",
      "\n",
      "\n",
      "2022-06-15 11:32:30,032 INFO sqlalchemy.engine.Engine [no key 0.00121s] ()\n",
      "2022-06-15 11:32:30,034 INFO sqlalchemy.engine.Engine \n",
      "CREATE TABLE address (\n",
      "\tid INTEGER NOT NULL, \n",
      "\tuser_id INTEGER NOT NULL, \n",
      "\temail_address VARCHAR NOT NULL, \n",
      "\tPRIMARY KEY (id), \n",
      "\tFOREIGN KEY(user_id) REFERENCES user_account (id)\n",
      ")\n",
      "\n",
      "\n",
      "2022-06-15 11:32:30,035 INFO sqlalchemy.engine.Engine [no key 0.00070s] ()\n",
      "2022-06-15 11:32:30,036 INFO sqlalchemy.engine.Engine COMMIT\n"
     ]
    }
   ],
   "source": [
    "metadata_obj.create_all(engine)"
   ]
  },
  {
   "cell_type": "code",
   "execution_count": 117,
   "metadata": {},
   "outputs": [],
   "source": [
    "from sqlalchemy.orm import registry\n",
    "mapper_registry = registry()"
   ]
  },
  {
   "cell_type": "code",
   "execution_count": 118,
   "metadata": {},
   "outputs": [
    {
     "data": {
      "text/plain": [
       "MetaData()"
      ]
     },
     "execution_count": 118,
     "metadata": {},
     "output_type": "execute_result"
    }
   ],
   "source": [
    "mapper_registry.metadata"
   ]
  },
  {
   "cell_type": "code",
   "execution_count": 119,
   "metadata": {},
   "outputs": [],
   "source": [
    "Base = mapper_registry.generate_base()"
   ]
  },
  {
   "cell_type": "code",
   "execution_count": 120,
   "metadata": {},
   "outputs": [],
   "source": [
    "from sqlalchemy.orm import relationship\n",
    "class User(Base):\n",
    "    __tablename__ = \"user_account\"\n",
    "\n",
    "    id = Column(Integer, primary_key=True)\n",
    "    name = Column(String(30))\n",
    "    fullname = Column(String)\n",
    "\n",
    "    addresses = relationship(\"Address\", back_populates=\"user\")\n",
    "\n",
    "    def __repr__(self):\n",
    "        return f\"User(id={self.id!r}, name={self.name!r}, fullname={self.fullname!r})\"\n",
    "\n",
    "class Address(Base):\n",
    "    __tablename__ = \"address\"\n",
    "\n",
    "    id = Column(Integer, primary_key=True)\n",
    "    email_address = Column(String, nullable=False)\n",
    "    user_id = Column(Integer, ForeignKey(\"user_account.id\"))\n",
    "\n",
    "    user = relationship(\"User\", back_populates=\"addresses\")\n",
    "\n",
    "    def __repr__(self):\n",
    "        return f\"User(id={self.id!r}, email_address={self.email_address!r})\""
   ]
  },
  {
   "cell_type": "code",
   "execution_count": 121,
   "metadata": {},
   "outputs": [
    {
     "data": {
      "text/plain": [
       "Table('user_account', MetaData(), Column('id', Integer(), table=<user_account>, primary_key=True, nullable=False), Column('name', String(length=30), table=<user_account>), Column('fullname', String(), table=<user_account>), schema=None)"
      ]
     },
     "execution_count": 121,
     "metadata": {},
     "output_type": "execute_result"
    }
   ],
   "source": [
    "User.__table__"
   ]
  },
  {
   "cell_type": "code",
   "execution_count": 122,
   "metadata": {},
   "outputs": [],
   "source": [
    "sandy = User(name=\"sandy\", fullname=\"Sandy Cheeks\")"
   ]
  },
  {
   "cell_type": "code",
   "execution_count": 123,
   "metadata": {},
   "outputs": [
    {
     "data": {
      "text/plain": [
       "User(id=None, name='sandy', fullname='Sandy Cheeks')"
      ]
     },
     "execution_count": 123,
     "metadata": {},
     "output_type": "execute_result"
    }
   ],
   "source": [
    "sandy"
   ]
  },
  {
   "cell_type": "code",
   "execution_count": 124,
   "metadata": {},
   "outputs": [
    {
     "name": "stdout",
     "output_type": "stream",
     "text": [
      "2022-06-15 11:32:30,511 INFO sqlalchemy.engine.Engine BEGIN (implicit)\n",
      "2022-06-15 11:32:30,513 INFO sqlalchemy.engine.Engine PRAGMA main.table_info(\"user_account\")\n",
      "2022-06-15 11:32:30,514 INFO sqlalchemy.engine.Engine [raw sql] ()\n",
      "2022-06-15 11:32:30,515 INFO sqlalchemy.engine.Engine PRAGMA main.table_info(\"address\")\n",
      "2022-06-15 11:32:30,516 INFO sqlalchemy.engine.Engine [raw sql] ()\n",
      "2022-06-15 11:32:30,517 INFO sqlalchemy.engine.Engine COMMIT\n"
     ]
    }
   ],
   "source": [
    "mapper_registry.metadata.create_all(engine)"
   ]
  },
  {
   "cell_type": "code",
   "execution_count": 125,
   "metadata": {},
   "outputs": [
    {
     "name": "stdout",
     "output_type": "stream",
     "text": [
      "2022-06-15 11:32:30,572 INFO sqlalchemy.engine.Engine BEGIN (implicit)\n",
      "2022-06-15 11:32:30,574 INFO sqlalchemy.engine.Engine PRAGMA main.table_info(\"user_account\")\n",
      "2022-06-15 11:32:30,575 INFO sqlalchemy.engine.Engine [raw sql] ()\n",
      "2022-06-15 11:32:30,576 INFO sqlalchemy.engine.Engine PRAGMA main.table_info(\"address\")\n",
      "2022-06-15 11:32:30,577 INFO sqlalchemy.engine.Engine [raw sql] ()\n",
      "2022-06-15 11:32:30,579 INFO sqlalchemy.engine.Engine COMMIT\n"
     ]
    }
   ],
   "source": [
    "Base.metadata.create_all(engine)"
   ]
  },
  {
   "cell_type": "code",
   "execution_count": 126,
   "metadata": {},
   "outputs": [],
   "source": [
    "mapper_registry = registry()\n",
    "Base = mapper_registry.generate_base()\n",
    "\n",
    "class User(Base):\n",
    "    __table__ = user_table\n",
    "\n",
    "    addresses = relationship(\"Address\", back_populates=\"user\")\n",
    "\n",
    "    def __repr__(self):\n",
    "        return f\"User({self.name!r}, {self.fullname!r})\"\n",
    "\n",
    "class Address(Base):\n",
    "    __table__ = address_table\n",
    "\n",
    "    user = relationship(\"User\", back_populates=\"addresses\")\n",
    "\n",
    "    def __repr__(self):\n",
    "        return f\"Address({self.email_address!r})\""
   ]
  },
  {
   "cell_type": "code",
   "execution_count": 127,
   "metadata": {},
   "outputs": [
    {
     "name": "stdout",
     "output_type": "stream",
     "text": [
      "2022-06-15 11:32:30,678 INFO sqlalchemy.engine.Engine BEGIN (implicit)\n",
      "2022-06-15 11:32:30,680 INFO sqlalchemy.engine.Engine PRAGMA main.table_xinfo(\"some_table\")\n",
      "2022-06-15 11:32:30,681 INFO sqlalchemy.engine.Engine [raw sql] ()\n",
      "2022-06-15 11:32:30,683 INFO sqlalchemy.engine.Engine SELECT sql FROM  (SELECT * FROM sqlite_master UNION ALL   SELECT * FROM sqlite_temp_master) WHERE name = ? AND type = 'table'\n",
      "2022-06-15 11:32:30,684 INFO sqlalchemy.engine.Engine [raw sql] ('some_table',)\n",
      "2022-06-15 11:32:30,685 INFO sqlalchemy.engine.Engine PRAGMA main.foreign_key_list(\"some_table\")\n",
      "2022-06-15 11:32:30,686 INFO sqlalchemy.engine.Engine [raw sql] ()\n",
      "2022-06-15 11:32:30,688 INFO sqlalchemy.engine.Engine PRAGMA temp.foreign_key_list(\"some_table\")\n",
      "2022-06-15 11:32:30,688 INFO sqlalchemy.engine.Engine [raw sql] ()\n",
      "2022-06-15 11:32:30,689 INFO sqlalchemy.engine.Engine SELECT sql FROM  (SELECT * FROM sqlite_master UNION ALL   SELECT * FROM sqlite_temp_master) WHERE name = ? AND type = 'table'\n",
      "2022-06-15 11:32:30,690 INFO sqlalchemy.engine.Engine [raw sql] ('some_table',)\n",
      "2022-06-15 11:32:30,691 INFO sqlalchemy.engine.Engine PRAGMA main.index_list(\"some_table\")\n",
      "2022-06-15 11:32:30,692 INFO sqlalchemy.engine.Engine [raw sql] ()\n",
      "2022-06-15 11:32:30,693 INFO sqlalchemy.engine.Engine PRAGMA temp.index_list(\"some_table\")\n",
      "2022-06-15 11:32:30,694 INFO sqlalchemy.engine.Engine [raw sql] ()\n",
      "2022-06-15 11:32:30,695 INFO sqlalchemy.engine.Engine PRAGMA main.index_list(\"some_table\")\n",
      "2022-06-15 11:32:30,696 INFO sqlalchemy.engine.Engine [raw sql] ()\n",
      "2022-06-15 11:32:30,697 INFO sqlalchemy.engine.Engine PRAGMA temp.index_list(\"some_table\")\n",
      "2022-06-15 11:32:30,698 INFO sqlalchemy.engine.Engine [raw sql] ()\n",
      "2022-06-15 11:32:30,698 INFO sqlalchemy.engine.Engine SELECT sql FROM  (SELECT * FROM sqlite_master UNION ALL   SELECT * FROM sqlite_temp_master) WHERE name = ? AND type = 'table'\n",
      "2022-06-15 11:32:30,699 INFO sqlalchemy.engine.Engine [raw sql] ('some_table',)\n",
      "2022-06-15 11:32:30,700 INFO sqlalchemy.engine.Engine ROLLBACK\n"
     ]
    }
   ],
   "source": [
    "some_table = Table(\"some_table\", metadata_obj, autoload_with=engine)"
   ]
  },
  {
   "cell_type": "code",
   "execution_count": 128,
   "metadata": {},
   "outputs": [
    {
     "data": {
      "text/plain": [
       "Table('some_table', MetaData(), Column('x', INTEGER(), table=<some_table>), Column('y', INTEGER(), table=<some_table>), schema=None)"
      ]
     },
     "execution_count": 128,
     "metadata": {},
     "output_type": "execute_result"
    }
   ],
   "source": [
    "some_table"
   ]
  },
  {
   "cell_type": "code",
   "execution_count": 129,
   "metadata": {},
   "outputs": [],
   "source": [
    "from sqlalchemy import insert\n",
    "stmt = insert(user_table).values(name=\"spongebob\", fullname=\"Spongebob Squarepants\")"
   ]
  },
  {
   "cell_type": "code",
   "execution_count": 130,
   "metadata": {},
   "outputs": [
    {
     "name": "stdout",
     "output_type": "stream",
     "text": [
      "INSERT INTO user_account (name, fullname) VALUES (:name, :fullname)\n"
     ]
    }
   ],
   "source": [
    "print(stmt)"
   ]
  },
  {
   "cell_type": "code",
   "execution_count": 131,
   "metadata": {},
   "outputs": [],
   "source": [
    "compiled = stmt.compile()"
   ]
  },
  {
   "cell_type": "code",
   "execution_count": 132,
   "metadata": {},
   "outputs": [
    {
     "data": {
      "text/plain": [
       "{'name': 'spongebob', 'fullname': 'Spongebob Squarepants'}"
      ]
     },
     "execution_count": 132,
     "metadata": {},
     "output_type": "execute_result"
    }
   ],
   "source": [
    "compiled.params"
   ]
  },
  {
   "cell_type": "code",
   "execution_count": 133,
   "metadata": {},
   "outputs": [
    {
     "name": "stdout",
     "output_type": "stream",
     "text": [
      "2022-06-15 11:32:31,141 INFO sqlalchemy.engine.Engine BEGIN (implicit)\n",
      "2022-06-15 11:32:31,144 INFO sqlalchemy.engine.Engine INSERT INTO user_account (name, fullname) VALUES (?, ?)\n",
      "2022-06-15 11:32:31,144 INFO sqlalchemy.engine.Engine [generated in 0.00299s] ('spongebob', 'Spongebob Squarepants')\n",
      "2022-06-15 11:32:31,146 INFO sqlalchemy.engine.Engine COMMIT\n"
     ]
    }
   ],
   "source": [
    "with engine.connect() as conn:\n",
    "    result = conn.execute(stmt)\n",
    "    conn.commit()"
   ]
  },
  {
   "cell_type": "code",
   "execution_count": 134,
   "metadata": {},
   "outputs": [
    {
     "data": {
      "text/plain": [
       "(1,)"
      ]
     },
     "execution_count": 134,
     "metadata": {},
     "output_type": "execute_result"
    }
   ],
   "source": [
    "result.inserted_primary_key"
   ]
  },
  {
   "cell_type": "code",
   "execution_count": 135,
   "metadata": {},
   "outputs": [
    {
     "name": "stdout",
     "output_type": "stream",
     "text": [
      "2022-06-15 11:32:31,239 INFO sqlalchemy.engine.Engine BEGIN (implicit)\n",
      "2022-06-15 11:32:31,241 INFO sqlalchemy.engine.Engine INSERT INTO user_account (name, fullname) VALUES (?, ?)\n",
      "2022-06-15 11:32:31,241 INFO sqlalchemy.engine.Engine [generated in 0.00238s] (('sandy', 'Sandy Cheeks'), ('patrick', 'Patrick Star'))\n",
      "2022-06-15 11:32:31,242 INFO sqlalchemy.engine.Engine COMMIT\n"
     ]
    }
   ],
   "source": [
    "with engine.connect() as conn:\n",
    "    result = conn.execute(\n",
    "        insert(user_table),\n",
    "        [\n",
    "            {\"name\": \"sandy\", \"fullname\": \"Sandy Cheeks\"},\n",
    "            {\"name\": \"patrick\", \"fullname\": \"Patrick Star\"},\n",
    "        ]\n",
    "    )\n",
    "    conn.commit()"
   ]
  },
  {
   "cell_type": "code",
   "execution_count": 136,
   "metadata": {},
   "outputs": [
    {
     "name": "stdout",
     "output_type": "stream",
     "text": [
      "2022-06-15 11:32:31,326 INFO sqlalchemy.engine.Engine BEGIN (implicit)\n",
      "2022-06-15 11:32:31,328 INFO sqlalchemy.engine.Engine INSERT INTO address (user_id, email_address) VALUES ((SELECT user_account.id \n",
      "FROM user_account \n",
      "WHERE user_account.name = ?), ?)\n",
      "2022-06-15 11:32:31,329 INFO sqlalchemy.engine.Engine [generated in 0.00286s] (('spongebob', 'spongebob@sqlalchemy.org'), ('sandy', 'sandy@sqlalchemy.org'), ('sandy', 'sandy@squirrelpower.org'))\n",
      "2022-06-15 11:32:31,330 INFO sqlalchemy.engine.Engine COMMIT\n"
     ]
    }
   ],
   "source": [
    "from sqlalchemy import bindparam, select\n",
    "scalar_subq = (\n",
    "    select(user_table.c.id).\n",
    "    where(user_table.c.name == bindparam(\"username\")).\n",
    "    scalar_subquery()\n",
    ")\n",
    "\n",
    "with engine.connect() as conn:\n",
    "    result = conn.execute(\n",
    "        insert(address_table).values(user_id = scalar_subq),\n",
    "        [\n",
    "            {\"username\": \"spongebob\", \"email_address\": \"spongebob@sqlalchemy.org\"},\n",
    "            {\"username\": \"sandy\", \"email_address\": \"sandy@sqlalchemy.org\"},\n",
    "            {\"username\": \"sandy\", \"email_address\": \"sandy@squirrelpower.org\"},\n",
    "        ]\n",
    "    )\n",
    "    conn.commit()"
   ]
  },
  {
   "cell_type": "code",
   "execution_count": 137,
   "metadata": {},
   "outputs": [
    {
     "name": "stdout",
     "output_type": "stream",
     "text": [
      "INSERT INTO address (user_id, email_address) SELECT user_account.id, user_account.name || :name_1 AS anon_1 \n",
      "FROM user_account\n"
     ]
    }
   ],
   "source": [
    "select_stmt = select(user_table.c.id, user_table.c.name + \"@aol.com\")\n",
    "insert_stmt = insert(address_table).from_select(\n",
    "    [\"user_id\", \"email_address\"], select_stmt,\n",
    ")\n",
    "print(insert_stmt)"
   ]
  },
  {
   "cell_type": "code",
   "execution_count": 138,
   "metadata": {},
   "outputs": [
    {
     "name": "stdout",
     "output_type": "stream",
     "text": [
      "INSERT INTO address (id, user_id, email_address) VALUES (:id, :user_id, :email_address) RETURNING address.id, address.email_address\n"
     ]
    }
   ],
   "source": [
    "insert_stmt = insert(address_table).returning(address_table.c.id, address_table.c.email_address)\n",
    "print(insert_stmt)"
   ]
  },
  {
   "cell_type": "code",
   "execution_count": 139,
   "metadata": {},
   "outputs": [
    {
     "name": "stdout",
     "output_type": "stream",
     "text": [
      "INSERT INTO address (user_id, email_address) SELECT user_account.id, user_account.name || :name_1 AS anon_1 \n",
      "FROM user_account RETURNING address.id, address.email_address\n"
     ]
    }
   ],
   "source": [
    "select_stmt = select(user_table.c.id, user_table.c.name + \"@aol.com\")\n",
    "insert_stmt = insert(address_table).from_select(\n",
    "    [\"user_id\", \"email_address\"], select_stmt,\n",
    ")\n",
    "print(insert_stmt.returning(address_table.c.id, address_table.c.email_address))"
   ]
  },
  {
   "cell_type": "code",
   "execution_count": 140,
   "metadata": {},
   "outputs": [
    {
     "name": "stdout",
     "output_type": "stream",
     "text": [
      "SELECT user_account.id, user_account.name, user_account.fullname \n",
      "FROM user_account \n",
      "WHERE user_account.name = :name_1\n"
     ]
    }
   ],
   "source": [
    "from sqlalchemy import select\n",
    "stmt = select(user_table).where(user_table.c.name == \"spongebob\")\n",
    "print(stmt)"
   ]
  },
  {
   "cell_type": "code",
   "execution_count": 141,
   "metadata": {},
   "outputs": [
    {
     "name": "stdout",
     "output_type": "stream",
     "text": [
      "2022-06-15 11:32:31,640 INFO sqlalchemy.engine.Engine BEGIN (implicit)\n",
      "2022-06-15 11:32:31,642 INFO sqlalchemy.engine.Engine SELECT user_account.id, user_account.name, user_account.fullname \n",
      "FROM user_account \n",
      "WHERE user_account.name = ?\n",
      "2022-06-15 11:32:31,643 INFO sqlalchemy.engine.Engine [generated in 0.00233s] ('spongebob',)\n",
      "(1, 'spongebob', 'Spongebob Squarepants')\n",
      "2022-06-15 11:32:31,645 INFO sqlalchemy.engine.Engine ROLLBACK\n"
     ]
    }
   ],
   "source": [
    "with engine.connect() as conn:\n",
    "    for row in conn.execute(stmt):\n",
    "        print(row)"
   ]
  },
  {
   "cell_type": "code",
   "execution_count": 142,
   "metadata": {},
   "outputs": [
    {
     "name": "stdout",
     "output_type": "stream",
     "text": [
      "2022-06-15 11:32:31,701 INFO sqlalchemy.engine.Engine BEGIN (implicit)\n",
      "2022-06-15 11:32:31,706 INFO sqlalchemy.engine.Engine SELECT user_account.id, user_account.name, user_account.fullname \n",
      "FROM user_account \n",
      "WHERE user_account.name = ?\n",
      "2022-06-15 11:32:31,707 INFO sqlalchemy.engine.Engine [generated in 0.00142s] ('spongebob',)\n",
      "(User('spongebob', 'Spongebob Squarepants'),)\n",
      "2022-06-15 11:32:31,709 INFO sqlalchemy.engine.Engine ROLLBACK\n"
     ]
    }
   ],
   "source": [
    "stmt = select(User).where(User.name == \"spongebob\")\n",
    "with Session(engine) as session:\n",
    "    for row in session.execute(stmt):\n",
    "        print(row)"
   ]
  },
  {
   "cell_type": "code",
   "execution_count": 143,
   "metadata": {},
   "outputs": [
    {
     "name": "stdout",
     "output_type": "stream",
     "text": [
      "SELECT user_account.id, user_account.name, user_account.fullname \n",
      "FROM user_account\n"
     ]
    }
   ],
   "source": [
    "print(select(user_table))"
   ]
  },
  {
   "cell_type": "code",
   "execution_count": 144,
   "metadata": {},
   "outputs": [
    {
     "name": "stdout",
     "output_type": "stream",
     "text": [
      "SELECT user_account.name, user_account.fullname \n",
      "FROM user_account\n"
     ]
    }
   ],
   "source": [
    "print(select(user_table.c.name, user_table.c.fullname))"
   ]
  },
  {
   "cell_type": "code",
   "execution_count": 145,
   "metadata": {},
   "outputs": [
    {
     "name": "stdout",
     "output_type": "stream",
     "text": [
      "SELECT user_account.id, user_account.name, user_account.fullname \n",
      "FROM user_account\n"
     ]
    }
   ],
   "source": [
    "print(select(User))"
   ]
  },
  {
   "cell_type": "code",
   "execution_count": 146,
   "metadata": {},
   "outputs": [
    {
     "name": "stdout",
     "output_type": "stream",
     "text": [
      "2022-06-15 11:32:32,560 INFO sqlalchemy.engine.Engine BEGIN (implicit)\n",
      "2022-06-15 11:32:32,563 INFO sqlalchemy.engine.Engine SELECT user_account.id, user_account.name, user_account.fullname \n",
      "FROM user_account\n",
      "2022-06-15 11:32:32,564 INFO sqlalchemy.engine.Engine [generated in 0.00085s] ()\n"
     ]
    }
   ],
   "source": [
    "row = session.execute(select(User)).first()"
   ]
  },
  {
   "cell_type": "code",
   "execution_count": 147,
   "metadata": {},
   "outputs": [
    {
     "data": {
      "text/plain": [
       "(User('spongebob', 'Spongebob Squarepants'),)"
      ]
     },
     "execution_count": 147,
     "metadata": {},
     "output_type": "execute_result"
    }
   ],
   "source": [
    "row"
   ]
  },
  {
   "cell_type": "code",
   "execution_count": 148,
   "metadata": {},
   "outputs": [
    {
     "data": {
      "text/plain": [
       "User('spongebob', 'Spongebob Squarepants')"
      ]
     },
     "execution_count": 148,
     "metadata": {},
     "output_type": "execute_result"
    }
   ],
   "source": [
    "row[0]"
   ]
  },
  {
   "cell_type": "code",
   "execution_count": 149,
   "metadata": {},
   "outputs": [
    {
     "name": "stdout",
     "output_type": "stream",
     "text": [
      "2022-06-15 11:32:32,734 INFO sqlalchemy.engine.Engine SELECT user_account.id, user_account.name, user_account.fullname \n",
      "FROM user_account\n",
      "2022-06-15 11:32:32,735 INFO sqlalchemy.engine.Engine [cached since 0.1727s ago] ()\n"
     ]
    }
   ],
   "source": [
    "user = session.scalars(select(User)).first()"
   ]
  },
  {
   "cell_type": "code",
   "execution_count": 150,
   "metadata": {},
   "outputs": [
    {
     "data": {
      "text/plain": [
       "User('spongebob', 'Spongebob Squarepants')"
      ]
     },
     "execution_count": 150,
     "metadata": {},
     "output_type": "execute_result"
    }
   ],
   "source": [
    "user"
   ]
  },
  {
   "cell_type": "code",
   "execution_count": 151,
   "metadata": {},
   "outputs": [
    {
     "name": "stdout",
     "output_type": "stream",
     "text": [
      "SELECT user_account.name, user_account.fullname \n",
      "FROM user_account\n"
     ]
    }
   ],
   "source": [
    "print(select(User.name, User.fullname))"
   ]
  },
  {
   "cell_type": "code",
   "execution_count": 152,
   "metadata": {},
   "outputs": [
    {
     "name": "stdout",
     "output_type": "stream",
     "text": [
      "2022-06-15 11:32:32,888 INFO sqlalchemy.engine.Engine SELECT user_account.name, user_account.fullname \n",
      "FROM user_account\n",
      "2022-06-15 11:32:32,890 INFO sqlalchemy.engine.Engine [generated in 0.00157s] ()\n"
     ]
    }
   ],
   "source": [
    "row = session.execute(select(User.name, User.fullname)).first()"
   ]
  },
  {
   "cell_type": "code",
   "execution_count": 153,
   "metadata": {},
   "outputs": [
    {
     "data": {
      "text/plain": [
       "('spongebob', 'Spongebob Squarepants')"
      ]
     },
     "execution_count": 153,
     "metadata": {},
     "output_type": "execute_result"
    }
   ],
   "source": [
    "row"
   ]
  },
  {
   "cell_type": "code",
   "execution_count": 154,
   "metadata": {},
   "outputs": [
    {
     "name": "stdout",
     "output_type": "stream",
     "text": [
      "2022-06-15 11:32:32,998 INFO sqlalchemy.engine.Engine SELECT user_account.name, address.id, address.user_id, address.email_address \n",
      "FROM user_account, address \n",
      "WHERE user_account.id = address.user_id ORDER BY address.id\n",
      "2022-06-15 11:32:33,000 INFO sqlalchemy.engine.Engine [generated in 0.00228s] ()\n"
     ]
    },
    {
     "data": {
      "text/plain": [
       "[('spongebob', Address('spongebob@sqlalchemy.org')),\n",
       " ('sandy', Address('sandy@sqlalchemy.org')),\n",
       " ('sandy', Address('sandy@squirrelpower.org'))]"
      ]
     },
     "execution_count": 154,
     "metadata": {},
     "output_type": "execute_result"
    }
   ],
   "source": [
    "session.execute(\n",
    "    select(User.name, Address).\n",
    "    where(User.id == Address.user_id).\n",
    "    order_by(Address.id)\n",
    ").all()"
   ]
  },
  {
   "cell_type": "code",
   "execution_count": 155,
   "metadata": {},
   "outputs": [
    {
     "name": "stdout",
     "output_type": "stream",
     "text": [
      "2022-06-15 11:32:33,060 INFO sqlalchemy.engine.Engine BEGIN (implicit)\n",
      "2022-06-15 11:32:33,061 INFO sqlalchemy.engine.Engine SELECT ? || user_account.name AS username \n",
      "FROM user_account ORDER BY user_account.name\n",
      "2022-06-15 11:32:33,063 INFO sqlalchemy.engine.Engine [generated in 0.00294s] ('Username: ',)\n",
      "Username: patrick\n",
      "Username: sandy\n",
      "Username: spongebob\n",
      "2022-06-15 11:32:33,064 INFO sqlalchemy.engine.Engine ROLLBACK\n"
     ]
    }
   ],
   "source": [
    "from sqlalchemy import func, cast\n",
    "\n",
    "stmt = (\n",
    "    select((\"Username: \" + user_table.c.name).label(\"username\")).order_by(user_table.c.name)\n",
    ")\n",
    "with engine.connect() as conn:\n",
    "    for row in conn.execute(stmt):\n",
    "        print(f\"{row.username}\")"
   ]
  },
  {
   "cell_type": "code",
   "execution_count": 156,
   "metadata": {},
   "outputs": [
    {
     "name": "stdout",
     "output_type": "stream",
     "text": [
      "2022-06-15 11:32:33,123 INFO sqlalchemy.engine.Engine BEGIN (implicit)\n",
      "2022-06-15 11:32:33,125 INFO sqlalchemy.engine.Engine SELECT 'some phrases', user_account.name \n",
      "FROM user_account ORDER BY user_account.name\n",
      "2022-06-15 11:32:33,126 INFO sqlalchemy.engine.Engine [generated in 0.00303s] ()\n",
      "[('some phrases', 'patrick'), ('some phrases', 'sandy'), ('some phrases', 'spongebob')]\n",
      "2022-06-15 11:32:33,128 INFO sqlalchemy.engine.Engine ROLLBACK\n"
     ]
    }
   ],
   "source": [
    "stmt = (\n",
    "    select(\n",
    "        text(\"'some phrases'\"), user_table.c.name,\n",
    "    ).order_by(user_table.c.name)\n",
    ")\n",
    "with engine.connect() as conn:\n",
    "    print(conn.execute(stmt).all())"
   ]
  },
  {
   "cell_type": "code",
   "execution_count": 157,
   "metadata": {},
   "outputs": [
    {
     "name": "stdout",
     "output_type": "stream",
     "text": [
      "2022-06-15 11:32:33,312 INFO sqlalchemy.engine.Engine BEGIN (implicit)\n",
      "2022-06-15 11:32:33,314 INFO sqlalchemy.engine.Engine SELECT 'some phrase' AS p, user_account.name \n",
      "FROM user_account ORDER BY user_account.name\n",
      "2022-06-15 11:32:33,315 INFO sqlalchemy.engine.Engine [generated in 0.00282s] ()\n",
      "some phrase, patrick\n",
      "some phrase, sandy\n",
      "some phrase, spongebob\n",
      "2022-06-15 11:32:33,317 INFO sqlalchemy.engine.Engine ROLLBACK\n"
     ]
    }
   ],
   "source": [
    "from sqlalchemy import literal_column\n",
    "stmt = (\n",
    "    select(\n",
    "        literal_column(\"'some phrase'\").label(\"p\"), user_table.c.name,\n",
    "    ).order_by(user_table.c.name)\n",
    ")\n",
    "\n",
    "with engine.connect() as conn:\n",
    "    for row in conn.execute(stmt):\n",
    "        print(f\"{row.p}, {row.name}\")"
   ]
  },
  {
   "cell_type": "code",
   "execution_count": 158,
   "metadata": {},
   "outputs": [
    {
     "name": "stdout",
     "output_type": "stream",
     "text": [
      "user_account.name = :name_1\n"
     ]
    }
   ],
   "source": [
    "print(user_table.c.name == \"squidward\")"
   ]
  },
  {
   "cell_type": "code",
   "execution_count": 159,
   "metadata": {},
   "outputs": [
    {
     "name": "stdout",
     "output_type": "stream",
     "text": [
      "address.user_id > :user_id_1\n"
     ]
    }
   ],
   "source": [
    "print(address_table.c.user_id > 10)"
   ]
  },
  {
   "cell_type": "code",
   "execution_count": 160,
   "metadata": {},
   "outputs": [
    {
     "name": "stdout",
     "output_type": "stream",
     "text": [
      "SELECT user_account.id, user_account.name, user_account.fullname \n",
      "FROM user_account \n",
      "WHERE user_account.name = :name_1\n"
     ]
    }
   ],
   "source": [
    "print(select(user_table).where(user_table.c.name == \"squidward\"))"
   ]
  },
  {
   "cell_type": "code",
   "execution_count": 161,
   "metadata": {},
   "outputs": [
    {
     "name": "stdout",
     "output_type": "stream",
     "text": [
      "SELECT address.email_address \n",
      "FROM address, user_account \n",
      "WHERE user_account.name = :name_1 AND address.user_id = user_account.id\n"
     ]
    }
   ],
   "source": [
    "print(\n",
    "    select(address_table.c.email_address).\n",
    "    where(user_table.c.name == \"squidward\").\n",
    "    where(address_table.c.user_id == user_table.c.id)\n",
    ")"
   ]
  },
  {
   "cell_type": "code",
   "execution_count": 162,
   "metadata": {},
   "outputs": [
    {
     "name": "stdout",
     "output_type": "stream",
     "text": [
      "SELECT address.email_address \n",
      "FROM address, user_account \n",
      "WHERE user_account.name = :name_1 AND address.user_id = user_account.id\n"
     ]
    }
   ],
   "source": [
    "print(\n",
    "    select(address_table.c.email_address).\n",
    "    where(\n",
    "        user_table.c.name == \"squidward\",\n",
    "        address_table.c.user_id == user_table.c.id\n",
    "    )\n",
    ")"
   ]
  },
  {
   "cell_type": "code",
   "execution_count": 163,
   "metadata": {},
   "outputs": [],
   "source": [
    "from sqlalchemy import and_, or_"
   ]
  },
  {
   "cell_type": "code",
   "execution_count": 164,
   "metadata": {},
   "outputs": [
    {
     "name": "stdout",
     "output_type": "stream",
     "text": [
      "SELECT address.email_address \n",
      "FROM address, user_account \n",
      "WHERE (user_account.name = :name_1 OR user_account.name = :name_2) AND address.user_id = user_account.id\n"
     ]
    }
   ],
   "source": [
    "print(\n",
    "    select(Address.email_address).\n",
    "    where(\n",
    "        and_(\n",
    "            or_(User.name == \"squidward\", User.name == \"sandy\"),\n",
    "            Address.user_id == User.id\n",
    "        )\n",
    "    )\n",
    ")"
   ]
  },
  {
   "cell_type": "code",
   "execution_count": 165,
   "metadata": {},
   "outputs": [
    {
     "name": "stdout",
     "output_type": "stream",
     "text": [
      "SELECT user_account.id, user_account.name, user_account.fullname \n",
      "FROM user_account \n",
      "WHERE user_account.name = :name_1 AND user_account.fullname = :fullname_1\n"
     ]
    }
   ],
   "source": [
    "print(\n",
    "    select(User).filter_by(name=\"spongebob\", fullname=\"Spongebob Squarepants\")\n",
    ")"
   ]
  },
  {
   "cell_type": "code",
   "execution_count": 166,
   "metadata": {},
   "outputs": [
    {
     "name": "stdout",
     "output_type": "stream",
     "text": [
      "SELECT user_account.name \n",
      "FROM user_account\n"
     ]
    }
   ],
   "source": [
    "print(select(user_table.c.name))"
   ]
  },
  {
   "cell_type": "code",
   "execution_count": 167,
   "metadata": {},
   "outputs": [
    {
     "name": "stdout",
     "output_type": "stream",
     "text": [
      "SELECT user_account.name, address.email_address \n",
      "FROM user_account, address\n"
     ]
    }
   ],
   "source": [
    "print(select(user_table.c.name, address_table.c.email_address))"
   ]
  },
  {
   "cell_type": "code",
   "execution_count": 168,
   "metadata": {},
   "outputs": [
    {
     "name": "stdout",
     "output_type": "stream",
     "text": [
      "SELECT user_account.name, address.email_address \n",
      "FROM user_account JOIN address ON user_account.id = address.user_id\n"
     ]
    }
   ],
   "source": [
    "print(select(user_table.c.name, address_table.c.email_address).join_from(user_table, Address))"
   ]
  },
  {
   "cell_type": "code",
   "execution_count": 169,
   "metadata": {},
   "outputs": [
    {
     "name": "stdout",
     "output_type": "stream",
     "text": [
      "SELECT user_account.name, address.email_address \n",
      "FROM user_account JOIN address ON user_account.id = address.user_id\n"
     ]
    }
   ],
   "source": [
    "print(select(user_table.c.name, address_table.c.email_address).join(address_table))"
   ]
  },
  {
   "cell_type": "code",
   "execution_count": 170,
   "metadata": {},
   "outputs": [
    {
     "name": "stdout",
     "output_type": "stream",
     "text": [
      "SELECT address.email_address \n",
      "FROM user_account JOIN address ON user_account.id = address.user_id\n"
     ]
    }
   ],
   "source": [
    "print(select(address_table.c.email_address).select_from(user_table).join(address_table))"
   ]
  },
  {
   "cell_type": "code",
   "execution_count": 171,
   "metadata": {},
   "outputs": [
    {
     "name": "stdout",
     "output_type": "stream",
     "text": [
      "SELECT count(:count_2) AS count_1 \n",
      "FROM user_account\n"
     ]
    }
   ],
   "source": [
    "from sqlalchemy import func\n",
    "print(\n",
    "    select(func.count(\"*\")).select_from(user_table)\n",
    ")"
   ]
  },
  {
   "cell_type": "code",
   "execution_count": 172,
   "metadata": {},
   "outputs": [
    {
     "name": "stdout",
     "output_type": "stream",
     "text": [
      "SELECT address.email_address \n",
      "FROM user_account JOIN address ON user_account.id = address.user_id\n"
     ]
    }
   ],
   "source": [
    "print(\n",
    "    select(address_table.c.email_address).\n",
    "    select_from(user_table).\n",
    "    join(address_table, user_table.c.id == Address.user_id)\n",
    ")"
   ]
  },
  {
   "cell_type": "code",
   "execution_count": 173,
   "metadata": {},
   "outputs": [
    {
     "name": "stdout",
     "output_type": "stream",
     "text": [
      "SELECT user_account.id, user_account.name, user_account.fullname \n",
      "FROM user_account LEFT OUTER JOIN address ON user_account.id = address.user_id\n"
     ]
    }
   ],
   "source": [
    "print(select(user_table).join(address_table, isouter=True))"
   ]
  },
  {
   "cell_type": "code",
   "execution_count": 174,
   "metadata": {},
   "outputs": [
    {
     "name": "stdout",
     "output_type": "stream",
     "text": [
      "SELECT user_account.id, user_account.name, user_account.fullname \n",
      "FROM user_account FULL OUTER JOIN address ON user_account.id = address.user_id\n"
     ]
    }
   ],
   "source": [
    "print(select(user_table).join(address_table, full=True))"
   ]
  },
  {
   "cell_type": "code",
   "execution_count": 175,
   "metadata": {},
   "outputs": [
    {
     "name": "stdout",
     "output_type": "stream",
     "text": [
      "SELECT user_account.id, user_account.name, user_account.fullname \n",
      "FROM user_account ORDER BY user_account.name\n"
     ]
    }
   ],
   "source": [
    "print(select(user_table).order_by(user_table.c.name))"
   ]
  },
  {
   "cell_type": "code",
   "execution_count": 176,
   "metadata": {},
   "outputs": [
    {
     "name": "stdout",
     "output_type": "stream",
     "text": [
      "SELECT user_account.id, user_account.name, user_account.fullname \n",
      "FROM user_account ORDER BY user_account.name DESC\n"
     ]
    }
   ],
   "source": [
    "print(select(user_table).order_by(user_table.c.name.desc()))"
   ]
  },
  {
   "cell_type": "code",
   "execution_count": 177,
   "metadata": {},
   "outputs": [
    {
     "name": "stdout",
     "output_type": "stream",
     "text": [
      "count(user_account.id)\n"
     ]
    }
   ],
   "source": [
    "count_fn = func.count(user_table.c.id)\n",
    "print(count_fn)"
   ]
  },
  {
   "cell_type": "code",
   "execution_count": 178,
   "metadata": {},
   "outputs": [
    {
     "name": "stdout",
     "output_type": "stream",
     "text": [
      "2022-06-15 11:32:34,632 INFO sqlalchemy.engine.Engine BEGIN (implicit)\n",
      "2022-06-15 11:32:34,633 INFO sqlalchemy.engine.Engine SELECT user_account.name, count(address.id) AS count \n",
      "FROM user_account JOIN address ON user_account.id = address.user_id GROUP BY user_account.name \n",
      "HAVING count(address.id) > ?\n",
      "2022-06-15 11:32:34,634 INFO sqlalchemy.engine.Engine [generated in 0.00248s] (1,)\n",
      "[('sandy', 2)]\n",
      "2022-06-15 11:32:34,636 INFO sqlalchemy.engine.Engine ROLLBACK\n"
     ]
    }
   ],
   "source": [
    "with engine.connect() as conn:\n",
    "    result = conn.execute(\n",
    "        select(User.name, func.count(Address.id).label(\"count\")).\n",
    "        join(Address).\n",
    "        group_by(User.name).\n",
    "        having(func.count(Address.id) > 1)\n",
    "    )\n",
    "    print(result.all())"
   ]
  },
  {
   "cell_type": "code",
   "execution_count": 179,
   "metadata": {},
   "outputs": [
    {
     "name": "stdout",
     "output_type": "stream",
     "text": [
      "SELECT address.user_id, count(address.id) AS num_address \n",
      "FROM address GROUP BY address.user_id ORDER BY address.user_id, num_address DESC\n"
     ]
    }
   ],
   "source": [
    "from sqlalchemy import func, desc\n",
    "stmt = (\n",
    "    select(\n",
    "        Address.user_id,\n",
    "        func.count(Address.id).label(\"num_address\"),\n",
    "    ).\n",
    "    group_by(\"user_id\").order_by(\"user_id\", desc(\"num_address\"))\n",
    ")\n",
    "print(stmt)"
   ]
  },
  {
   "cell_type": "code",
   "execution_count": 180,
   "metadata": {},
   "outputs": [
    {
     "name": "stdout",
     "output_type": "stream",
     "text": [
      "SELECT user_account_1.name, user_account_2.name AS name_1 \n",
      "FROM user_account AS user_account_1 JOIN user_account AS user_account_2 ON user_account_1.id > user_account_2.id\n"
     ]
    }
   ],
   "source": [
    "user_alias1 = user_table.alias()\n",
    "user_alias2 = user_table.alias()\n",
    "print(\n",
    "    select(user_alias1.c.name, user_alias2.c.name).\n",
    "    join_from(user_alias1, user_alias2, user_alias1.c.id > user_alias2.c.id)\n",
    ")"
   ]
  },
  {
   "cell_type": "code",
   "execution_count": 181,
   "metadata": {},
   "outputs": [
    {
     "name": "stdout",
     "output_type": "stream",
     "text": [
      "SELECT user_account.id, user_account.name, user_account.fullname \n",
      "FROM user_account JOIN address AS address_1 ON user_account.id = address_1.user_id JOIN address AS address_2 ON user_account.id = address_2.user_id \n",
      "WHERE address_1.email_address = :email_address_1 AND address_2.email_address = :email_address_2\n"
     ]
    }
   ],
   "source": [
    "from sqlalchemy.orm import aliased\n",
    "\n",
    "address_alias1 = aliased(Address)\n",
    "address_alias2 = aliased(Address)\n",
    "\n",
    "print(\n",
    "    select(User).\n",
    "    join_from(User, address_alias1).\n",
    "    where(address_alias1.email_address == \"patrick@aol.com\").\n",
    "    join_from(User, address_alias2).\n",
    "    where(address_alias2.email_address == \"patrick@gmail.com\")\n",
    ")"
   ]
  },
  {
   "cell_type": "code",
   "execution_count": 182,
   "metadata": {},
   "outputs": [
    {
     "data": {
      "text/plain": [
       "sqlalchemy.orm.decl_api.DeclarativeMeta"
      ]
     },
     "execution_count": 182,
     "metadata": {},
     "output_type": "execute_result"
    }
   ],
   "source": [
    "type(Address)"
   ]
  },
  {
   "cell_type": "code",
   "execution_count": 183,
   "metadata": {},
   "outputs": [],
   "source": [
    "subq = select(\n",
    "    func.count(address_table.c.id).label(\"count\"),\n",
    "    address_table.c.user_id\n",
    ").group_by(address_table.c.user_id).subquery()"
   ]
  },
  {
   "cell_type": "code",
   "execution_count": 184,
   "metadata": {},
   "outputs": [
    {
     "name": "stdout",
     "output_type": "stream",
     "text": [
      "SELECT count(address.id) AS count, address.user_id \n",
      "FROM address GROUP BY address.user_id\n"
     ]
    }
   ],
   "source": [
    "print(subq)"
   ]
  },
  {
   "cell_type": "code",
   "execution_count": 185,
   "metadata": {},
   "outputs": [
    {
     "name": "stdout",
     "output_type": "stream",
     "text": [
      "SELECT anon_1.count, anon_1.user_id \n",
      "FROM (SELECT count(address.id) AS count, address.user_id AS user_id \n",
      "FROM address GROUP BY address.user_id) AS anon_1\n"
     ]
    }
   ],
   "source": [
    "print(select(subq.c.count, subq.c.user_id))"
   ]
  },
  {
   "cell_type": "code",
   "execution_count": 186,
   "metadata": {},
   "outputs": [
    {
     "name": "stdout",
     "output_type": "stream",
     "text": [
      "SELECT user_account.name, user_account.fullname, anon_1.count \n",
      "FROM user_account JOIN (SELECT count(address.id) AS count, address.user_id AS user_id \n",
      "FROM address GROUP BY address.user_id) AS anon_1 ON user_account.id = anon_1.user_id\n"
     ]
    }
   ],
   "source": [
    "stmt = select(\n",
    "    user_table.c.name,\n",
    "    user_table.c.fullname,\n",
    "    subq.c.count\n",
    ").join_from(user_table, subq)\n",
    "print(stmt)"
   ]
  },
  {
   "cell_type": "code",
   "execution_count": 187,
   "metadata": {},
   "outputs": [
    {
     "name": "stdout",
     "output_type": "stream",
     "text": [
      "SELECT count(address.id) AS count, address.user_id \n",
      "FROM address GROUP BY address.user_id\n"
     ]
    }
   ],
   "source": [
    "subq = select(\n",
    "    func.count(address_table.c.id).label(\"count\"),\n",
    "    address_table.c.user_id,\n",
    ").group_by(address_table.c.user_id).cte()\n",
    "print(subq)"
   ]
  },
  {
   "cell_type": "code",
   "execution_count": 188,
   "metadata": {},
   "outputs": [
    {
     "name": "stdout",
     "output_type": "stream",
     "text": [
      "WITH anon_1 AS \n",
      "(SELECT count(address.id) AS count, address.user_id AS user_id \n",
      "FROM address GROUP BY address.user_id)\n",
      " SELECT user_account.name, user_account.fullname, anon_1.count \n",
      "FROM user_account JOIN anon_1 ON user_account.id = anon_1.user_id\n"
     ]
    }
   ],
   "source": [
    "stmt = select(\n",
    "    user_table.c.name,\n",
    "    user_table.c.fullname,\n",
    "    subq.c.count\n",
    ").join_from(user_table, subq)\n",
    "print(stmt)"
   ]
  },
  {
   "cell_type": "code",
   "execution_count": 189,
   "metadata": {},
   "outputs": [],
   "source": [
    "subq = select(Address).where(~Address.email_address.like(\"%@aol.com\")).subquery()\n",
    "address_subq = aliased(Address, subq)\n",
    "stmt = select(User, address_subq).join_from(User, address_subq).order_by(User.id, address_subq.id)"
   ]
  },
  {
   "cell_type": "code",
   "execution_count": 190,
   "metadata": {},
   "outputs": [
    {
     "name": "stdout",
     "output_type": "stream",
     "text": [
      "2022-06-15 11:32:35,269 INFO sqlalchemy.engine.Engine BEGIN (implicit)\n",
      "2022-06-15 11:32:35,274 INFO sqlalchemy.engine.Engine WITH anon_1 AS \n",
      "(SELECT address.id AS id, address.user_id AS user_id, address.email_address AS email_address \n",
      "FROM address \n",
      "WHERE address.email_address NOT LIKE ?)\n",
      " SELECT user_account.id, user_account.name, user_account.fullname, anon_1.id AS id_1, anon_1.user_id, anon_1.email_address \n",
      "FROM user_account JOIN anon_1 ON user_account.id = anon_1.user_id ORDER BY user_account.id, anon_1.id\n",
      "2022-06-15 11:32:35,276 INFO sqlalchemy.engine.Engine [generated in 0.00178s] ('%@aol.com',)\n",
      "User('spongebob', 'Spongebob Squarepants') Address('spongebob@sqlalchemy.org')\n",
      "User('sandy', 'Sandy Cheeks') Address('sandy@sqlalchemy.org')\n",
      "User('sandy', 'Sandy Cheeks') Address('sandy@squirrelpower.org')\n",
      "2022-06-15 11:32:35,278 INFO sqlalchemy.engine.Engine ROLLBACK\n"
     ]
    }
   ],
   "source": [
    "cte_obj = select(Address).where(~Address.email_address.like(\"%@aol.com\")).cte()\n",
    "address_cte = aliased(Address, cte_obj)\n",
    "stmt = select(User, address_cte).join_from(User, address_cte).order_by(User.id, address_cte.id)\n",
    "with Session(engine) as session:\n",
    "    for user, address in session.execute(stmt):\n",
    "        print(f\"{user} {address}\")"
   ]
  },
  {
   "cell_type": "code",
   "execution_count": 191,
   "metadata": {},
   "outputs": [
    {
     "name": "stdout",
     "output_type": "stream",
     "text": [
      "(SELECT count(address.id) AS count_1 \n",
      "FROM address, user_account \n",
      "WHERE user_account.id = address.user_id)\n"
     ]
    }
   ],
   "source": [
    "subq = select(func.count(address_table.c.id)).where(user_table.c.id == address_table.c.user_id).scalar_subquery()\n",
    "print(subq)"
   ]
  },
  {
   "cell_type": "code",
   "execution_count": 192,
   "metadata": {},
   "outputs": [
    {
     "name": "stdout",
     "output_type": "stream",
     "text": [
      "(SELECT count(address.id) AS count_1 \n",
      "FROM address, user_account \n",
      "WHERE user_account.id = address.user_id) = :param_1\n"
     ]
    }
   ],
   "source": [
    "print(subq == 5)"
   ]
  },
  {
   "cell_type": "code",
   "execution_count": 193,
   "metadata": {},
   "outputs": [
    {
     "name": "stdout",
     "output_type": "stream",
     "text": [
      "SELECT user_account.name, (SELECT count(address.id) AS count_1 \n",
      "FROM address \n",
      "WHERE user_account.id = address.user_id) AS address_count \n",
      "FROM user_account\n"
     ]
    }
   ],
   "source": [
    "stmt = select(user_table.c.name, subq.label(\"address_count\"))\n",
    "print(stmt)"
   ]
  },
  {
   "cell_type": "code",
   "execution_count": 194,
   "metadata": {},
   "outputs": [],
   "source": [
    "stmt = select(\n",
    "    user_table.c.name,\n",
    "    address_table.c.email_address,\n",
    "    subq.label(\"address_count\")\n",
    ").join_from(user_table, address_table).order_by(user_table.c.id, address_table.c.user_id)\n",
    "#print(stmt)"
   ]
  },
  {
   "cell_type": "code",
   "execution_count": 195,
   "metadata": {},
   "outputs": [],
   "source": [
    "subq = select(func.count(address_table.c.id)).where(user_table.c.id == address_table.c.user_id).scalar_subquery().correlate(user_table)"
   ]
  },
  {
   "cell_type": "code",
   "execution_count": 196,
   "metadata": {},
   "outputs": [
    {
     "name": "stdout",
     "output_type": "stream",
     "text": [
      "2022-06-15 11:32:35,585 INFO sqlalchemy.engine.Engine BEGIN (implicit)\n",
      "2022-06-15 11:32:35,587 INFO sqlalchemy.engine.Engine SELECT user_account.name, address.email_address, (SELECT count(address.id) AS count_1 \n",
      "FROM address \n",
      "WHERE user_account.id = address.user_id) AS address_count \n",
      "FROM user_account JOIN address ON user_account.id = address.user_id ORDER BY user_account.id, address.id\n",
      "2022-06-15 11:32:35,588 INFO sqlalchemy.engine.Engine [generated in 0.00327s] ()\n",
      "[('spongebob', 'spongebob@sqlalchemy.org', 1), ('sandy', 'sandy@sqlalchemy.org', 2), ('sandy', 'sandy@squirrelpower.org', 2)]\n",
      "2022-06-15 11:32:35,590 INFO sqlalchemy.engine.Engine ROLLBACK\n"
     ]
    }
   ],
   "source": [
    "with engine.connect() as conn:\n",
    "    result = conn.execute(\n",
    "        select(\n",
    "            user_table.c.name,\n",
    "            address_table.c.email_address,\n",
    "            subq.label(\"address_count\"),\n",
    "        ).\n",
    "        join_from(user_table, address_table).\n",
    "        order_by(user_table.c.id, address_table.c.id)\n",
    "    )\n",
    "    print(result.all())"
   ]
  },
  {
   "cell_type": "code",
   "execution_count": 197,
   "metadata": {},
   "outputs": [],
   "source": [
    "from sqlalchemy import union_all"
   ]
  },
  {
   "cell_type": "code",
   "execution_count": 198,
   "metadata": {},
   "outputs": [
    {
     "name": "stdout",
     "output_type": "stream",
     "text": [
      "2022-06-15 11:32:35,676 INFO sqlalchemy.engine.Engine BEGIN (implicit)\n",
      "2022-06-15 11:32:35,678 INFO sqlalchemy.engine.Engine SELECT user_account.id, user_account.name, user_account.fullname \n",
      "FROM user_account \n",
      "WHERE user_account.name = ? UNION ALL SELECT user_account.id, user_account.name, user_account.fullname \n",
      "FROM user_account \n",
      "WHERE user_account.name = ?\n",
      "2022-06-15 11:32:35,679 INFO sqlalchemy.engine.Engine [generated in 0.00255s] ('sandy', 'spongebob')\n",
      "<sqlalchemy.engine.cursor.CursorResult object at 0x7f1c36027c10>\n",
      "2022-06-15 11:32:35,681 INFO sqlalchemy.engine.Engine ROLLBACK\n"
     ]
    }
   ],
   "source": [
    "stmt1 = select(user_table).where(user_table.c.name == \"sandy\")\n",
    "stmt2 = select(user_table).where(user_table.c.name == \"spongebob\")\n",
    "u = union_all(stmt1, stmt2)\n",
    "with engine.connect() as conn:\n",
    "    result = conn.execute(u)\n",
    "    print(result)"
   ]
  },
  {
   "cell_type": "code",
   "execution_count": 199,
   "metadata": {},
   "outputs": [
    {
     "name": "stdout",
     "output_type": "stream",
     "text": [
      "2022-06-15 11:32:35,749 INFO sqlalchemy.engine.Engine BEGIN (implicit)\n",
      "2022-06-15 11:32:35,751 INFO sqlalchemy.engine.Engine SELECT anon_1.name, address.email_address \n",
      "FROM address JOIN (SELECT user_account.id AS id, user_account.name AS name, user_account.fullname AS fullname \n",
      "FROM user_account \n",
      "WHERE user_account.name = ? UNION ALL SELECT user_account.id AS id, user_account.name AS name, user_account.fullname AS fullname \n",
      "FROM user_account \n",
      "WHERE user_account.name = ?) AS anon_1 ON anon_1.id = address.user_id ORDER BY anon_1.name, address.email_address\n",
      "2022-06-15 11:32:35,752 INFO sqlalchemy.engine.Engine [generated in 0.00395s] ('sandy', 'spongebob')\n",
      "[('sandy', 'sandy@sqlalchemy.org'), ('sandy', 'sandy@squirrelpower.org'), ('spongebob', 'spongebob@sqlalchemy.org')]\n",
      "2022-06-15 11:32:35,754 INFO sqlalchemy.engine.Engine ROLLBACK\n"
     ]
    }
   ],
   "source": [
    "u_subq = u.subquery()\n",
    "stmt = (\n",
    "    select(u_subq.c.name, address_table.c.email_address).\n",
    "    join_from(address_table, u_subq).\n",
    "    order_by(u_subq.c.name, address_table.c.email_address)\n",
    ")\n",
    "with engine.connect() as conn:\n",
    "    result = conn.execute(stmt)\n",
    "    print(result.all())"
   ]
  },
  {
   "cell_type": "code",
   "execution_count": 200,
   "metadata": {},
   "outputs": [],
   "source": [
    "stmt1 = select(User).where(User.name == \"sandy\")\n",
    "stmt2 = select(User).where(User.name == \"spongebob\")\n",
    "u = union_all(stmt1, stmt2)"
   ]
  },
  {
   "cell_type": "code",
   "execution_count": 201,
   "metadata": {},
   "outputs": [
    {
     "name": "stdout",
     "output_type": "stream",
     "text": [
      "2022-06-15 11:32:35,853 INFO sqlalchemy.engine.Engine BEGIN (implicit)\n",
      "2022-06-15 11:32:35,857 INFO sqlalchemy.engine.Engine SELECT user_account.id, user_account.name, user_account.fullname \n",
      "FROM user_account \n",
      "WHERE user_account.name = ? UNION ALL SELECT user_account.id, user_account.name, user_account.fullname \n",
      "FROM user_account \n",
      "WHERE user_account.name = ?\n",
      "2022-06-15 11:32:35,858 INFO sqlalchemy.engine.Engine [generated in 0.00134s] ('sandy', 'spongebob')\n",
      "User('sandy', 'Sandy Cheeks')\n",
      "User('spongebob', 'Spongebob Squarepants')\n",
      "2022-06-15 11:32:35,861 INFO sqlalchemy.engine.Engine ROLLBACK\n"
     ]
    }
   ],
   "source": [
    "orm_stmt = select(User).from_statement(u)\n",
    "with Session(engine) as session:\n",
    "    for obj in session.execute(orm_stmt).scalars():\n",
    "        print(obj)"
   ]
  },
  {
   "cell_type": "code",
   "execution_count": 202,
   "metadata": {},
   "outputs": [
    {
     "name": "stdout",
     "output_type": "stream",
     "text": [
      "2022-06-15 11:32:35,905 INFO sqlalchemy.engine.Engine BEGIN (implicit)\n",
      "2022-06-15 11:32:35,911 INFO sqlalchemy.engine.Engine SELECT anon_1.id, anon_1.name, anon_1.fullname \n",
      "FROM (SELECT user_account.id AS id, user_account.name AS name, user_account.fullname AS fullname \n",
      "FROM user_account \n",
      "WHERE user_account.name = ? UNION ALL SELECT user_account.id AS id, user_account.name AS name, user_account.fullname AS fullname \n",
      "FROM user_account \n",
      "WHERE user_account.name = ?) AS anon_1 ORDER BY anon_1.id\n",
      "2022-06-15 11:32:35,912 INFO sqlalchemy.engine.Engine [generated in 0.00139s] ('sandy', 'spongebob')\n",
      "User('spongebob', 'Spongebob Squarepants')\n",
      "User('sandy', 'Sandy Cheeks')\n",
      "2022-06-15 11:32:35,915 INFO sqlalchemy.engine.Engine ROLLBACK\n"
     ]
    }
   ],
   "source": [
    "user_alias = aliased(User, u.subquery())\n",
    "orm_stmt = select(user_alias).order_by(user_alias.id)\n",
    "with Session(engine) as session:\n",
    "    for obj in session.execute(orm_stmt).scalars():\n",
    "        print(obj)"
   ]
  },
  {
   "cell_type": "code",
   "execution_count": 203,
   "metadata": {},
   "outputs": [
    {
     "name": "stdout",
     "output_type": "stream",
     "text": [
      "2022-06-15 11:32:35,968 INFO sqlalchemy.engine.Engine BEGIN (implicit)\n",
      "2022-06-15 11:32:35,970 INFO sqlalchemy.engine.Engine SELECT user_account.name \n",
      "FROM user_account \n",
      "WHERE EXISTS (SELECT count(address.id) AS count_1 \n",
      "FROM address \n",
      "WHERE user_account.id = address.user_id GROUP BY address.user_id \n",
      "HAVING count(address.id) > ?)\n",
      "2022-06-15 11:32:35,971 INFO sqlalchemy.engine.Engine [generated in 0.00316s] (1,)\n",
      "[('sandy',)]\n",
      "2022-06-15 11:32:35,973 INFO sqlalchemy.engine.Engine ROLLBACK\n"
     ]
    }
   ],
   "source": [
    "subq = (\n",
    "    select(func.count(address_table.c.id)).\n",
    "    where(user_table.c.id == address_table.c.user_id).\n",
    "    group_by(address_table.c.user_id).\n",
    "    having(func.count(address_table.c.id) > 1)\n",
    ").exists()\n",
    "\n",
    "with engine.connect() as conn:\n",
    "    result = conn.execute(\n",
    "        select(user_table.c.name).where(subq)\n",
    "    )\n",
    "    print(result.all())"
   ]
  },
  {
   "cell_type": "code",
   "execution_count": 204,
   "metadata": {},
   "outputs": [
    {
     "name": "stdout",
     "output_type": "stream",
     "text": [
      "2022-06-15 11:32:36,022 INFO sqlalchemy.engine.Engine BEGIN (implicit)\n",
      "2022-06-15 11:32:36,023 INFO sqlalchemy.engine.Engine SELECT user_account.name \n",
      "FROM user_account \n",
      "WHERE NOT (EXISTS (SELECT address.id \n",
      "FROM address \n",
      "WHERE user_account.id = address.user_id))\n",
      "2022-06-15 11:32:36,024 INFO sqlalchemy.engine.Engine [generated in 0.00222s] ()\n",
      "[('patrick',)]\n",
      "2022-06-15 11:32:36,025 INFO sqlalchemy.engine.Engine ROLLBACK\n"
     ]
    }
   ],
   "source": [
    "subq = select(address_table.c.id).where(user_table.c.id == address_table.c.user_id).exists()\n",
    "with engine.connect() as conn:\n",
    "    result = conn.execute(select(user_table.c.name).where(~subq))\n",
    "    print(result.all())"
   ]
  },
  {
   "cell_type": "code",
   "execution_count": 205,
   "metadata": {},
   "outputs": [
    {
     "name": "stdout",
     "output_type": "stream",
     "text": [
      "SELECT count(*) AS count_1 \n",
      "FROM user_account\n"
     ]
    }
   ],
   "source": [
    "print(select(func.count()).select_from(user_table))"
   ]
  },
  {
   "cell_type": "code",
   "execution_count": 206,
   "metadata": {},
   "outputs": [
    {
     "name": "stdout",
     "output_type": "stream",
     "text": [
      "SELECT lower(:lower_2) AS lower_1\n"
     ]
    }
   ],
   "source": [
    "print(select(func.lower(\"A String With Much UPPERCASE\")))"
   ]
  },
  {
   "cell_type": "code",
   "execution_count": 207,
   "metadata": {},
   "outputs": [
    {
     "name": "stdout",
     "output_type": "stream",
     "text": [
      "2022-06-15 11:32:36,161 INFO sqlalchemy.engine.Engine BEGIN (implicit)\n",
      "2022-06-15 11:32:36,164 INFO sqlalchemy.engine.Engine SELECT CURRENT_TIMESTAMP AS now_1\n",
      "2022-06-15 11:32:36,165 INFO sqlalchemy.engine.Engine [generated in 0.00333s] ()\n",
      "[(datetime.datetime(2022, 6, 15, 11, 32, 36),)]\n",
      "2022-06-15 11:32:36,166 INFO sqlalchemy.engine.Engine ROLLBACK\n"
     ]
    }
   ],
   "source": [
    "stmt = select(func.now())\n",
    "with engine.connect() as conn:\n",
    "    result = conn.execute(stmt)\n",
    "    print(result.all())"
   ]
  },
  {
   "cell_type": "code",
   "execution_count": 208,
   "metadata": {},
   "outputs": [
    {
     "name": "stdout",
     "output_type": "stream",
     "text": [
      "SELECT some_crazy_function(user_account.name, :some_crazy_function_2) AS some_crazy_function_1 \n",
      "FROM user_account\n"
     ]
    }
   ],
   "source": [
    "print(select(func.some_crazy_function(user_table.c.name, 17)))"
   ]
  },
  {
   "cell_type": "code",
   "execution_count": 209,
   "metadata": {},
   "outputs": [
    {
     "name": "stdout",
     "output_type": "stream",
     "text": [
      "SELECT now() AS now_1\n"
     ]
    }
   ],
   "source": [
    "from sqlalchemy.dialects import postgresql\n",
    "print(select(func.now()).compile(dialect=postgresql.dialect()))"
   ]
  },
  {
   "cell_type": "code",
   "execution_count": 210,
   "metadata": {},
   "outputs": [
    {
     "name": "stdout",
     "output_type": "stream",
     "text": [
      "SELECT CURRENT_TIMESTAMP AS now_1 FROM DUAL\n"
     ]
    }
   ],
   "source": [
    "from sqlalchemy.dialects import oracle\n",
    "print(select(func.now()).compile(dialect=oracle.dialect()))"
   ]
  },
  {
   "cell_type": "code",
   "execution_count": 211,
   "metadata": {},
   "outputs": [
    {
     "data": {
      "text/plain": [
       "DateTime()"
      ]
     },
     "execution_count": 211,
     "metadata": {},
     "output_type": "execute_result"
    }
   ],
   "source": [
    "func.now().type"
   ]
  },
  {
   "cell_type": "code",
   "execution_count": 212,
   "metadata": {},
   "outputs": [],
   "source": [
    "from sqlalchemy import JSON\n",
    "function_expr = func.json_object(\"{a, 1, b, 'def', c, 3.5}\", type_=JSON)"
   ]
  },
  {
   "cell_type": "code",
   "execution_count": 213,
   "metadata": {},
   "outputs": [
    {
     "name": "stdout",
     "output_type": "stream",
     "text": [
      "SELECT json_object(:json_object_1)[:json_object_2] AS anon_1\n"
     ]
    }
   ],
   "source": [
    "stmt = select(function_expr[\"def\"])\n",
    "print(stmt)"
   ]
  },
  {
   "cell_type": "code",
   "execution_count": 214,
   "metadata": {},
   "outputs": [
    {
     "data": {
      "text/plain": [
       "Integer()"
      ]
     },
     "execution_count": 214,
     "metadata": {},
     "output_type": "execute_result"
    }
   ],
   "source": [
    "m1 = func.max(Column(\"some_int\", Integer))\n",
    "m1.type"
   ]
  },
  {
   "cell_type": "code",
   "execution_count": 215,
   "metadata": {},
   "outputs": [
    {
     "data": {
      "text/plain": [
       "String()"
      ]
     },
     "execution_count": 215,
     "metadata": {},
     "output_type": "execute_result"
    }
   ],
   "source": [
    "m2 = func.max(Column(\"some_str\", String))\n",
    "m2.type"
   ]
  },
  {
   "cell_type": "code",
   "execution_count": 216,
   "metadata": {},
   "outputs": [
    {
     "data": {
      "text/plain": [
       "DateTime()"
      ]
     },
     "execution_count": 216,
     "metadata": {},
     "output_type": "execute_result"
    }
   ],
   "source": [
    "func.now().type"
   ]
  },
  {
   "cell_type": "code",
   "execution_count": 217,
   "metadata": {},
   "outputs": [
    {
     "data": {
      "text/plain": [
       "Date()"
      ]
     },
     "execution_count": 217,
     "metadata": {},
     "output_type": "execute_result"
    }
   ],
   "source": [
    "func.current_date().type"
   ]
  },
  {
   "cell_type": "code",
   "execution_count": 218,
   "metadata": {},
   "outputs": [
    {
     "data": {
      "text/plain": [
       "String()"
      ]
     },
     "execution_count": 218,
     "metadata": {},
     "output_type": "execute_result"
    }
   ],
   "source": [
    "func.concat(\"x\", \"y\").type"
   ]
  },
  {
   "cell_type": "code",
   "execution_count": 219,
   "metadata": {},
   "outputs": [
    {
     "data": {
      "text/plain": [
       "NullType()"
      ]
     },
     "execution_count": 219,
     "metadata": {},
     "output_type": "execute_result"
    }
   ],
   "source": [
    "func.upper(\"lowercase\").type"
   ]
  },
  {
   "cell_type": "code",
   "execution_count": 220,
   "metadata": {},
   "outputs": [
    {
     "name": "stdout",
     "output_type": "stream",
     "text": [
      "SELECT upper(:upper_1) || :upper_2 AS anon_1\n"
     ]
    }
   ],
   "source": [
    "print(select(func.upper(\"lowercase\") + \"_suffix\"))"
   ]
  },
  {
   "cell_type": "code",
   "execution_count": 221,
   "metadata": {},
   "outputs": [
    {
     "data": {
      "text/plain": [
       "Integer()"
      ]
     },
     "execution_count": 221,
     "metadata": {},
     "output_type": "execute_result"
    }
   ],
   "source": [
    "func.count().type"
   ]
  },
  {
   "cell_type": "code",
   "execution_count": 222,
   "metadata": {},
   "outputs": [
    {
     "data": {
      "text/plain": [
       "NullType()"
      ]
     },
     "execution_count": 222,
     "metadata": {},
     "output_type": "execute_result"
    }
   ],
   "source": [
    "func.json_object('{\"a\", \"b\"}').type"
   ]
  },
  {
   "cell_type": "code",
   "execution_count": 223,
   "metadata": {},
   "outputs": [
    {
     "name": "stdout",
     "output_type": "stream",
     "text": [
      "2022-06-15 11:32:37,117 INFO sqlalchemy.engine.Engine BEGIN (implicit)\n",
      "2022-06-15 11:32:37,119 INFO sqlalchemy.engine.Engine SELECT row_number() OVER (PARTITION BY user_account.name) AS anon_1, user_account.name, address.email_address \n",
      "FROM user_account JOIN address ON user_account.id = address.user_id\n",
      "2022-06-15 11:32:37,120 INFO sqlalchemy.engine.Engine [generated in 0.00283s] ()\n",
      "[(1, 'sandy', 'sandy@sqlalchemy.org'), (2, 'sandy', 'sandy@squirrelpower.org'), (1, 'spongebob', 'spongebob@sqlalchemy.org')]\n",
      "2022-06-15 11:32:37,122 INFO sqlalchemy.engine.Engine ROLLBACK\n"
     ]
    }
   ],
   "source": [
    "stmt = select(\n",
    "    func.row_number().over(partition_by=user_table.c.name),\n",
    "    user_table.c.name,\n",
    "    address_table.c.email_address,\n",
    ").select_from(user_table).join(address_table)\n",
    "with engine.connect() as conn:\n",
    "    result = conn.execute(stmt)\n",
    "    print(result.all())"
   ]
  },
  {
   "cell_type": "code",
   "execution_count": 224,
   "metadata": {},
   "outputs": [
    {
     "name": "stdout",
     "output_type": "stream",
     "text": [
      "2022-06-15 11:32:37,172 INFO sqlalchemy.engine.Engine BEGIN (implicit)\n",
      "2022-06-15 11:32:37,174 INFO sqlalchemy.engine.Engine SELECT count(*) OVER (ORDER BY user_account.name) AS anon_1, user_account.name, address.email_address \n",
      "FROM user_account JOIN address ON user_account.id = address.user_id\n",
      "2022-06-15 11:32:37,175 INFO sqlalchemy.engine.Engine [generated in 0.00262s] ()\n",
      "[(2, 'sandy', 'sandy@sqlalchemy.org'), (2, 'sandy', 'sandy@squirrelpower.org'), (3, 'spongebob', 'spongebob@sqlalchemy.org')]\n",
      "2022-06-15 11:32:37,177 INFO sqlalchemy.engine.Engine ROLLBACK\n"
     ]
    }
   ],
   "source": [
    "stmt = select(\n",
    "    func.count().over(order_by=user_table.c.name),\n",
    "    user_table.c.name,\n",
    "    address_table.c.email_address,\n",
    ").select_from(user_table).join(address_table)\n",
    "\n",
    "with engine.connect() as conn:\n",
    "    result = conn.execute(stmt)\n",
    "    print(result.all())\n"
   ]
  },
  {
   "cell_type": "code",
   "execution_count": 225,
   "metadata": {},
   "outputs": [
    {
     "name": "stdout",
     "output_type": "stream",
     "text": [
      "unnest(percentile_disc(:percentile_disc_1) WITHIN GROUP (ORDER BY user_account.name))\n"
     ]
    }
   ],
   "source": [
    "print(\n",
    "    func.unnest(\n",
    "        func.percentile_disc([0.25, 0.5, 0.75, 1]).within_group(user_table.c.name)\n",
    "    )\n",
    ")"
   ]
  },
  {
   "cell_type": "code",
   "execution_count": 226,
   "metadata": {},
   "outputs": [
    {
     "name": "stdout",
     "output_type": "stream",
     "text": [
      "2022-06-15 11:32:37,265 INFO sqlalchemy.engine.Engine BEGIN (implicit)\n",
      "2022-06-15 11:32:37,267 INFO sqlalchemy.engine.Engine SELECT count(address.email_address) FILTER (WHERE user_account.name = ?) AS anon_1, count(address.email_address) FILTER (WHERE user_account.name = ?) AS anon_2 \n",
      "FROM user_account JOIN address ON user_account.id = address.user_id\n",
      "2022-06-15 11:32:37,268 INFO sqlalchemy.engine.Engine [generated in 0.00267s] ('sandy', 'spongebob')\n",
      "[(2, 1)]\n",
      "2022-06-15 11:32:37,270 INFO sqlalchemy.engine.Engine ROLLBACK\n"
     ]
    }
   ],
   "source": [
    "stmt = select(\n",
    "    func.count(address_table.c.email_address).filter(user_table.c.name == \"sandy\"),\n",
    "    func.count(address_table.c.email_address).filter(user_table.c.name == \"spongebob\"),\n",
    ").select_from(user_table).join(address_table)\n",
    "with engine.connect() as conn:\n",
    "    result = conn.execute(stmt)\n",
    "    print(result.all())"
   ]
  },
  {
   "cell_type": "code",
   "execution_count": 227,
   "metadata": {},
   "outputs": [
    {
     "name": "stdout",
     "output_type": "stream",
     "text": [
      "2022-06-15 11:32:37,320 INFO sqlalchemy.engine.Engine BEGIN (implicit)\n",
      "2022-06-15 11:32:37,322 INFO sqlalchemy.engine.Engine SELECT anon_1.value \n",
      "FROM json_each(?) AS anon_1 \n",
      "WHERE anon_1.value IN (?, ?)\n",
      "2022-06-15 11:32:37,323 INFO sqlalchemy.engine.Engine [generated in 0.00310s] ('[\"one\", \"two\", \"three\"]', 'two', 'three')\n",
      "[('two',), ('three',)]\n",
      "2022-06-15 11:32:37,326 INFO sqlalchemy.engine.Engine ROLLBACK\n"
     ]
    }
   ],
   "source": [
    "onetwothree = func.json_each('[\"one\", \"two\", \"three\"]').table_valued(\"value\")\n",
    "stmt = select(onetwothree).where(onetwothree.c.value.in_([\"two\", \"three\"]))\n",
    "with engine.connect() as conn:  \n",
    "    result = conn.execute(stmt)\n",
    "    print(result.all())"
   ]
  },
  {
   "cell_type": "code",
   "execution_count": 228,
   "metadata": {},
   "outputs": [
    {
     "name": "stdout",
     "output_type": "stream",
     "text": [
      "SELECT x \n",
      "FROM json_array_elements(:json_array_elements_1) AS x\n"
     ]
    }
   ],
   "source": [
    "from sqlalchemy import select, func\n",
    "stmt = select(func.json_array_elements('[\"one\", \"two\"]').column_valued(\"x\"))\n",
    "print(stmt)"
   ]
  },
  {
   "cell_type": "code",
   "execution_count": 229,
   "metadata": {},
   "outputs": [
    {
     "name": "stdout",
     "output_type": "stream",
     "text": [
      "SELECT COLUMN_VALUE s \n",
      "FROM TABLE (scalar_strings(:scalar_strings_1)) s\n"
     ]
    }
   ],
   "source": [
    "from sqlalchemy.dialects import oracle\n",
    "stmt = select(func.scalar_strings(5).column_valued(\"s\"))\n",
    "print(stmt.compile(dialect=oracle.dialect()))"
   ]
  },
  {
   "cell_type": "code",
   "execution_count": 230,
   "metadata": {},
   "outputs": [
    {
     "name": "stdout",
     "output_type": "stream",
     "text": [
      "2022-06-15 11:32:37,527 INFO sqlalchemy.engine.Engine BEGIN (implicit)\n",
      "2022-06-15 11:32:37,528 INFO sqlalchemy.engine.Engine SELECT CAST(user_account.id AS VARCHAR) AS id \n",
      "FROM user_account\n",
      "2022-06-15 11:32:37,529 INFO sqlalchemy.engine.Engine [generated in 0.00227s] ()\n",
      "2022-06-15 11:32:37,531 INFO sqlalchemy.engine.Engine ROLLBACK\n"
     ]
    }
   ],
   "source": [
    "from sqlalchemy import cast\n",
    "stmt = select(cast(user_table.c.id, String))\n",
    "with engine.connect() as conn:\n",
    "    result = conn.execute(stmt)\n",
    "    result.all()"
   ]
  },
  {
   "cell_type": "code",
   "execution_count": 232,
   "metadata": {},
   "outputs": [
    {
     "name": "stdout",
     "output_type": "stream",
     "text": [
      "CAST(:param_1 AS JSON)[:param_2]\n"
     ]
    }
   ],
   "source": [
    "from sqlalchemy import JSON\n",
    "print(cast(\"{'a': 1, 'b': 2}\", JSON)[\"a\"])"
   ]
  },
  {
   "cell_type": "code",
   "execution_count": 234,
   "metadata": {},
   "outputs": [
    {
     "name": "stdout",
     "output_type": "stream",
     "text": [
      "SELECT JSON_EXTRACT(%s, %s) AS anon_1\n"
     ]
    }
   ],
   "source": [
    "import json\n",
    "from sqlalchemy import JSON\n",
    "from sqlalchemy import type_coerce\n",
    "from sqlalchemy.dialects import mysql\n",
    "\n",
    "s = select(\n",
    "    type_coerce(\n",
    "        {'some_key': {'foo': 'bar'}}, JSON\n",
    "    )['some_key']\n",
    ")\n",
    "print(s.compile(dialect=mysql.dialect()))"
   ]
  },
  {
   "cell_type": "code",
   "execution_count": 235,
   "metadata": {},
   "outputs": [
    {
     "name": "stdout",
     "output_type": "stream",
     "text": [
      "UPDATE user_account SET fullname=:fullname WHERE user_account.name = :name_1\n"
     ]
    }
   ],
   "source": [
    "from sqlalchemy import update\n",
    "stmt = (\n",
    "    update(user_table).where(user_table.c.name == \"patrick\").\n",
    "    values(fullname=\"Patrick the Star\")\n",
    ")\n",
    "print(stmt)"
   ]
  },
  {
   "cell_type": "code",
   "execution_count": 236,
   "metadata": {},
   "outputs": [
    {
     "name": "stdout",
     "output_type": "stream",
     "text": [
      "UPDATE user_account SET fullname=(:name_1 || user_account.name)\n"
     ]
    }
   ],
   "source": [
    "stmt = (\n",
    "    update(user_table).\n",
    "    values(fullname=\"Username: \" + user_table.c.name)\n",
    ")\n",
    "print(stmt)"
   ]
  },
  {
   "cell_type": "code",
   "execution_count": 237,
   "metadata": {},
   "outputs": [
    {
     "name": "stdout",
     "output_type": "stream",
     "text": [
      "2022-06-15 11:41:58,040 INFO sqlalchemy.engine.Engine BEGIN (implicit)\n",
      "2022-06-15 11:41:58,042 INFO sqlalchemy.engine.Engine UPDATE user_account SET name=? WHERE user_account.name = ?\n",
      "2022-06-15 11:41:58,044 INFO sqlalchemy.engine.Engine [generated in 0.00439s] (('ed', 'jack'), ('mary', 'wendy'), ('jake', 'jim'))\n",
      "2022-06-15 11:41:58,046 INFO sqlalchemy.engine.Engine ROLLBACK\n"
     ]
    }
   ],
   "source": [
    "from sqlalchemy import bindparam\n",
    "stmt = (\n",
    "    update(user_table).\n",
    "    where(user_table.c.name == bindparam(\"oldname\")).\n",
    "    values(name=bindparam(\"newname\"))\n",
    ")\n",
    "with engine.connect() as conn:\n",
    "    conn.execute(\n",
    "        stmt,\n",
    "        [\n",
    "            {\"oldname\": \"jack\", \"newname\": \"ed\"},\n",
    "            {\"oldname\": \"wendy\", \"newname\": \"mary\"},\n",
    "            {\"oldname\": \"jim\", \"newname\": \"jake\"},\n",
    "        ]\n",
    "    )"
   ]
  },
  {
   "cell_type": "code",
   "execution_count": 239,
   "metadata": {},
   "outputs": [
    {
     "name": "stdout",
     "output_type": "stream",
     "text": [
      "UPDATE user_account SET fullname=(SELECT address.email_address \n",
      "FROM address \n",
      "WHERE address.user_id = user_account.id ORDER BY address.id\n",
      " LIMIT :param_1)\n"
     ]
    }
   ],
   "source": [
    "scalar_subq = (\n",
    "    select(address_table.c.email_address).\n",
    "    where(address_table.c.user_id == user_table.c.id).\n",
    "    order_by(address_table.c.id).\n",
    "    limit(1).\n",
    "    scalar_subquery()\n",
    ")\n",
    "update_stmt = update(user_table).values(fullname=scalar_subq)\n",
    "print(update_stmt)"
   ]
  },
  {
   "cell_type": "code",
   "execution_count": 240,
   "metadata": {},
   "outputs": [
    {
     "name": "stdout",
     "output_type": "stream",
     "text": [
      "UPDATE user_account SET fullname=:fullname FROM address WHERE user_account.id = address.user_id AND address.email_address = :email_address_1\n"
     ]
    }
   ],
   "source": [
    "update_stmt = (\n",
    "    update(user_table).\n",
    "    where(user_table.c.id == address_table.c.user_id).\n",
    "    where(address_table.c.email_address == \"patrick@aol.com\").\n",
    "    values(fullname=\"Pat\")\n",
    ")\n",
    "print(update_stmt)"
   ]
  },
  {
   "cell_type": "code",
   "execution_count": 242,
   "metadata": {},
   "outputs": [
    {
     "name": "stdout",
     "output_type": "stream",
     "text": [
      "UPDATE user_account, address SET address.email_address=%s, user_account.fullname=%s WHERE user_account.id = address.user_id AND address.email_address = %s\n"
     ]
    }
   ],
   "source": [
    "update_stmt = (\n",
    "    update(user_table).\n",
    "    where(user_table.c.id == address_table.c.user_id).\n",
    "    where(address_table.c.email_address == \"patrick@aol.com\").\n",
    "    values(\n",
    "        {\n",
    "            user_table.c.fullname: \"Pat\",\n",
    "            address_table.c.email_address: \"pat@aol.com\",\n",
    "        }\n",
    "    )\n",
    ")\n",
    "from sqlalchemy.dialects import mysql\n",
    "print(update_stmt.compile(dialect=mysql.dialect()))"
   ]
  },
  {
   "cell_type": "code",
   "execution_count": 244,
   "metadata": {},
   "outputs": [
    {
     "name": "stdout",
     "output_type": "stream",
     "text": [
      "UPDATE some_table SET y=:y, x=(some_table.y + :y_1)\n"
     ]
    }
   ],
   "source": [
    "update_stmt = (\n",
    "    update(some_table).\n",
    "    ordered_values(\n",
    "        (some_table.c.y, 20),\n",
    "        (some_table.c.x, some_table.c.y + 10),\n",
    "    )\n",
    ")\n",
    "print(update_stmt)"
   ]
  },
  {
   "cell_type": "code",
   "execution_count": 245,
   "metadata": {},
   "outputs": [
    {
     "name": "stdout",
     "output_type": "stream",
     "text": [
      "DELETE FROM user_account WHERE user_account.name = :name_1\n"
     ]
    }
   ],
   "source": [
    "from sqlalchemy import delete\n",
    "stmt = delete(user_table).where(user_table.c.name == \"patrick\")\n",
    "print(stmt)"
   ]
  },
  {
   "cell_type": "code",
   "execution_count": 246,
   "metadata": {},
   "outputs": [
    {
     "name": "stdout",
     "output_type": "stream",
     "text": [
      "DELETE FROM user_account USING user_account, address WHERE user_account.id = address.user_id AND address.email_address = %s\n"
     ]
    }
   ],
   "source": [
    "delete_stmt = (\n",
    "    delete(user_table).\n",
    "    where(user_table.c.id == address_table.c.user_id).\n",
    "    where(address_table.c.email_address == \"patrick@aol.com\")\n",
    ")\n",
    "from sqlalchemy.dialects import mysql\n",
    "print(delete_stmt.compile(dialect=mysql.dialect()))"
   ]
  },
  {
   "cell_type": "code",
   "execution_count": 248,
   "metadata": {},
   "outputs": [
    {
     "name": "stdout",
     "output_type": "stream",
     "text": [
      "2022-06-15 11:56:11,548 INFO sqlalchemy.engine.Engine BEGIN (implicit)\n",
      "2022-06-15 11:56:11,550 INFO sqlalchemy.engine.Engine UPDATE user_account SET fullname=? WHERE user_account.name = ?\n",
      "2022-06-15 11:56:11,552 INFO sqlalchemy.engine.Engine [generated in 0.00171s] ('Patrick McStar', 'patrick')\n",
      "1\n",
      "2022-06-15 11:56:11,553 INFO sqlalchemy.engine.Engine COMMIT\n"
     ]
    }
   ],
   "source": [
    "with engine.begin() as conn:\n",
    "    result = conn.execute(\n",
    "        update(user_table).\n",
    "        values(fullname=\"Patrick McStar\").\n",
    "        where(user_table.c.name == \"patrick\")\n",
    "    )\n",
    "    print(result.rowcount)"
   ]
  },
  {
   "cell_type": "code",
   "execution_count": 249,
   "metadata": {},
   "outputs": [
    {
     "name": "stdout",
     "output_type": "stream",
     "text": [
      "UPDATE user_account SET fullname=:fullname WHERE user_account.name = :name_1 RETURNING user_account.id, user_account.name\n"
     ]
    }
   ],
   "source": [
    "update_stmt = (\n",
    "    update(user_table).where(user_table.c.name == \"patrick\").\n",
    "    values(fullname=\"Patrick the Star\").\n",
    "    returning(user_table.c.id, user_table.c.name)\n",
    ")\n",
    "print(update_stmt)"
   ]
  },
  {
   "cell_type": "code",
   "execution_count": 250,
   "metadata": {},
   "outputs": [
    {
     "name": "stdout",
     "output_type": "stream",
     "text": [
      "DELETE FROM user_account WHERE user_account.name = :name_1 RETURNING user_account.id, user_account.name\n"
     ]
    }
   ],
   "source": [
    "delete_stmt = (\n",
    "    delete(user_table).where(user_table.c.name == \"patrick\").\n",
    "    returning(user_table.c.id, user_table.c.name)\n",
    ")\n",
    "print(delete_stmt)"
   ]
  },
  {
   "cell_type": "code",
   "execution_count": 251,
   "metadata": {},
   "outputs": [],
   "source": [
    "squidward = User(name=\"squidward\", fullname=\"Squidward Tentacles\")\n",
    "krabs = User(name=\"ehkrabs\", fullname=\"Eugene H. Krabs\")"
   ]
  },
  {
   "cell_type": "code",
   "execution_count": 252,
   "metadata": {},
   "outputs": [
    {
     "data": {
      "text/plain": [
       "User('squidward', 'Squidward Tentacles')"
      ]
     },
     "execution_count": 252,
     "metadata": {},
     "output_type": "execute_result"
    }
   ],
   "source": [
    "squidward"
   ]
  },
  {
   "cell_type": "code",
   "execution_count": 257,
   "metadata": {},
   "outputs": [],
   "source": [
    "session = Session(engine)\n",
    "session.add(squidward)\n",
    "session.add(krabs)"
   ]
  },
  {
   "cell_type": "code",
   "execution_count": 258,
   "metadata": {},
   "outputs": [
    {
     "data": {
      "text/plain": [
       "IdentitySet([User('squidward', 'Squidward Tentacles'), User('ehkrabs', 'Eugene H. Krabs')])"
      ]
     },
     "execution_count": 258,
     "metadata": {},
     "output_type": "execute_result"
    }
   ],
   "source": [
    "session.new"
   ]
  },
  {
   "cell_type": "code",
   "execution_count": 259,
   "metadata": {},
   "outputs": [
    {
     "name": "stdout",
     "output_type": "stream",
     "text": [
      "2022-06-15 12:12:01,448 INFO sqlalchemy.engine.Engine BEGIN (implicit)\n",
      "2022-06-15 12:12:01,451 INFO sqlalchemy.engine.Engine INSERT INTO user_account (name, fullname) VALUES (?, ?)\n",
      "2022-06-15 12:12:01,452 INFO sqlalchemy.engine.Engine [generated in 0.00114s] ('squidward', 'Squidward Tentacles')\n",
      "2022-06-15 12:12:01,454 INFO sqlalchemy.engine.Engine INSERT INTO user_account (name, fullname) VALUES (?, ?)\n",
      "2022-06-15 12:12:01,455 INFO sqlalchemy.engine.Engine [cached since 0.004196s ago] ('ehkrabs', 'Eugene H. Krabs')\n"
     ]
    }
   ],
   "source": [
    "session.flush()"
   ]
  },
  {
   "cell_type": "code",
   "execution_count": 260,
   "metadata": {},
   "outputs": [
    {
     "data": {
      "text/plain": [
       "4"
      ]
     },
     "execution_count": 260,
     "metadata": {},
     "output_type": "execute_result"
    }
   ],
   "source": [
    "squidward.id"
   ]
  },
  {
   "cell_type": "code",
   "execution_count": 261,
   "metadata": {},
   "outputs": [
    {
     "data": {
      "text/plain": [
       "5"
      ]
     },
     "execution_count": 261,
     "metadata": {},
     "output_type": "execute_result"
    }
   ],
   "source": [
    "krabs.id"
   ]
  },
  {
   "cell_type": "code",
   "execution_count": 262,
   "metadata": {},
   "outputs": [
    {
     "data": {
      "text/plain": [
       "User('squidward', 'Squidward Tentacles')"
      ]
     },
     "execution_count": 262,
     "metadata": {},
     "output_type": "execute_result"
    }
   ],
   "source": [
    "some_squidward = session.get(User, 4)\n",
    "some_squidward"
   ]
  },
  {
   "cell_type": "code",
   "execution_count": 263,
   "metadata": {},
   "outputs": [
    {
     "data": {
      "text/plain": [
       "True"
      ]
     },
     "execution_count": 263,
     "metadata": {},
     "output_type": "execute_result"
    }
   ],
   "source": [
    "some_squidward is squidward"
   ]
  },
  {
   "cell_type": "code",
   "execution_count": 264,
   "metadata": {},
   "outputs": [
    {
     "name": "stdout",
     "output_type": "stream",
     "text": [
      "2022-06-15 12:14:01,192 INFO sqlalchemy.engine.Engine COMMIT\n"
     ]
    }
   ],
   "source": [
    "session.commit()"
   ]
  },
  {
   "cell_type": "code",
   "execution_count": 266,
   "metadata": {},
   "outputs": [
    {
     "name": "stdout",
     "output_type": "stream",
     "text": [
      "2022-06-15 12:15:02,678 INFO sqlalchemy.engine.Engine SELECT user_account.id, user_account.name, user_account.fullname \n",
      "FROM user_account \n",
      "WHERE user_account.name = ?\n",
      "2022-06-15 12:15:02,679 INFO sqlalchemy.engine.Engine [cached since 2551s ago] ('sandy',)\n"
     ]
    }
   ],
   "source": [
    "sandy = session.execute(select(User).filter_by(name=\"sandy\")).scalar_one()"
   ]
  },
  {
   "cell_type": "code",
   "execution_count": 267,
   "metadata": {},
   "outputs": [
    {
     "data": {
      "text/plain": [
       "User('sandy', 'Sandy Cheeks')"
      ]
     },
     "execution_count": 267,
     "metadata": {},
     "output_type": "execute_result"
    }
   ],
   "source": [
    "sandy"
   ]
  },
  {
   "cell_type": "code",
   "execution_count": 269,
   "metadata": {},
   "outputs": [],
   "source": [
    "sandy.fullname = \"Sandy Squirrel\""
   ]
  },
  {
   "cell_type": "code",
   "execution_count": 272,
   "metadata": {},
   "outputs": [
    {
     "data": {
      "text/plain": [
       "True"
      ]
     },
     "execution_count": 272,
     "metadata": {},
     "output_type": "execute_result"
    }
   ],
   "source": [
    "sandy in session.dirty"
   ]
  },
  {
   "cell_type": "code",
   "execution_count": 271,
   "metadata": {},
   "outputs": [
    {
     "data": {
      "text/plain": [
       "User('sandy', 'Sandy Squirrel')"
      ]
     },
     "execution_count": 271,
     "metadata": {},
     "output_type": "execute_result"
    }
   ],
   "source": [
    "sandy"
   ]
  },
  {
   "cell_type": "code",
   "execution_count": 274,
   "metadata": {},
   "outputs": [
    {
     "name": "stdout",
     "output_type": "stream",
     "text": [
      "2022-06-15 12:17:54,521 INFO sqlalchemy.engine.Engine UPDATE user_account SET fullname=? WHERE user_account.id = ?\n",
      "2022-06-15 12:17:54,523 INFO sqlalchemy.engine.Engine [generated in 0.00160s] ('Sandy Squirrel', 2)\n",
      "2022-06-15 12:17:54,525 INFO sqlalchemy.engine.Engine SELECT user_account.fullname \n",
      "FROM user_account \n",
      "WHERE user_account.id = ?\n",
      "2022-06-15 12:17:54,526 INFO sqlalchemy.engine.Engine [generated in 0.00111s] (2,)\n"
     ]
    }
   ],
   "source": [
    "sandy_fullname = session.execute(select(User.fullname).where(User.id==2)).scalar_one()"
   ]
  },
  {
   "cell_type": "code",
   "execution_count": 275,
   "metadata": {},
   "outputs": [
    {
     "name": "stdout",
     "output_type": "stream",
     "text": [
      "Sandy Squirrel\n"
     ]
    }
   ],
   "source": [
    "print(sandy_fullname)"
   ]
  },
  {
   "cell_type": "code",
   "execution_count": 276,
   "metadata": {},
   "outputs": [
    {
     "data": {
      "text/plain": [
       "False"
      ]
     },
     "execution_count": 276,
     "metadata": {},
     "output_type": "execute_result"
    }
   ],
   "source": [
    "sandy in session.dirty"
   ]
  },
  {
   "cell_type": "code",
   "execution_count": 277,
   "metadata": {},
   "outputs": [
    {
     "data": {
      "text/plain": [
       "IdentitySet([])"
      ]
     },
     "execution_count": 277,
     "metadata": {},
     "output_type": "execute_result"
    }
   ],
   "source": [
    "session.new"
   ]
  },
  {
   "cell_type": "code",
   "execution_count": 278,
   "metadata": {},
   "outputs": [
    {
     "name": "stdout",
     "output_type": "stream",
     "text": [
      "2022-06-15 12:19:54,906 INFO sqlalchemy.engine.Engine UPDATE user_account SET fullname=? WHERE user_account.name = ?\n",
      "2022-06-15 12:19:54,908 INFO sqlalchemy.engine.Engine [generated in 0.00176s] ('Sandy Squirrel Extraordinaire', 'sandy')\n"
     ]
    },
    {
     "data": {
      "text/plain": [
       "<sqlalchemy.engine.cursor.CursorResult at 0x7f1c2a46fee0>"
      ]
     },
     "execution_count": 278,
     "metadata": {},
     "output_type": "execute_result"
    }
   ],
   "source": [
    "session.execute(\n",
    "    update(User).\n",
    "    where(User.name == \"sandy\").\n",
    "    values(fullname=\"Sandy Squirrel Extraordinaire\")\n",
    ")"
   ]
  },
  {
   "cell_type": "code",
   "execution_count": 279,
   "metadata": {},
   "outputs": [
    {
     "data": {
      "text/plain": [
       "'Sandy Squirrel Extraordinaire'"
      ]
     },
     "execution_count": 279,
     "metadata": {},
     "output_type": "execute_result"
    }
   ],
   "source": [
    "sandy.fullname"
   ]
  },
  {
   "cell_type": "code",
   "execution_count": 281,
   "metadata": {},
   "outputs": [
    {
     "name": "stdout",
     "output_type": "stream",
     "text": [
      "2022-06-15 12:20:45,754 INFO sqlalchemy.engine.Engine SELECT user_account.id AS user_account_id, user_account.name AS user_account_name, user_account.fullname AS user_account_fullname \n",
      "FROM user_account \n",
      "WHERE user_account.id = ?\n",
      "2022-06-15 12:20:45,755 INFO sqlalchemy.engine.Engine [generated in 0.00195s] (3,)\n"
     ]
    }
   ],
   "source": [
    "patrick = session.get(User, 3)"
   ]
  },
  {
   "cell_type": "code",
   "execution_count": 282,
   "metadata": {},
   "outputs": [],
   "source": [
    "session.delete(patrick)"
   ]
  },
  {
   "cell_type": "code",
   "execution_count": 283,
   "metadata": {},
   "outputs": [
    {
     "name": "stdout",
     "output_type": "stream",
     "text": [
      "2022-06-15 12:21:21,426 INFO sqlalchemy.engine.Engine SELECT address.id AS address_id, address.user_id AS address_user_id, address.email_address AS address_email_address \n",
      "FROM address \n",
      "WHERE ? = address.user_id\n",
      "2022-06-15 12:21:21,428 INFO sqlalchemy.engine.Engine [generated in 0.00216s] (3,)\n",
      "2022-06-15 12:21:21,431 INFO sqlalchemy.engine.Engine DELETE FROM user_account WHERE user_account.id = ?\n",
      "2022-06-15 12:21:21,432 INFO sqlalchemy.engine.Engine [generated in 0.00110s] (3,)\n",
      "2022-06-15 12:21:21,435 INFO sqlalchemy.engine.Engine SELECT user_account.id, user_account.name, user_account.fullname \n",
      "FROM user_account \n",
      "WHERE user_account.name = ?\n",
      "2022-06-15 12:21:21,436 INFO sqlalchemy.engine.Engine [cached since 2930s ago] ('patrick',)\n"
     ]
    }
   ],
   "source": [
    "session.execute(select(User).where(User.name == \"patrick\")).first()"
   ]
  },
  {
   "cell_type": "code",
   "execution_count": 284,
   "metadata": {},
   "outputs": [
    {
     "data": {
      "text/plain": [
       "False"
      ]
     },
     "execution_count": 284,
     "metadata": {},
     "output_type": "execute_result"
    }
   ],
   "source": [
    "patrick in session"
   ]
  },
  {
   "cell_type": "code",
   "execution_count": 285,
   "metadata": {},
   "outputs": [],
   "source": [
    "squidward = session.get(User, 4)"
   ]
  },
  {
   "cell_type": "code",
   "execution_count": 286,
   "metadata": {},
   "outputs": [
    {
     "name": "stdout",
     "output_type": "stream",
     "text": [
      "2022-06-15 12:22:46,784 INFO sqlalchemy.engine.Engine DELETE FROM user_account WHERE user_account.name = ?\n",
      "2022-06-15 12:22:46,786 INFO sqlalchemy.engine.Engine [generated in 0.00181s] ('squidward',)\n"
     ]
    },
    {
     "data": {
      "text/plain": [
       "<sqlalchemy.engine.cursor.CursorResult at 0x7f1c2a6e5780>"
      ]
     },
     "execution_count": 286,
     "metadata": {},
     "output_type": "execute_result"
    }
   ],
   "source": [
    "session.execute(delete(User).where(User.name == \"squidward\"))"
   ]
  },
  {
   "cell_type": "code",
   "execution_count": 287,
   "metadata": {},
   "outputs": [
    {
     "data": {
      "text/plain": [
       "False"
      ]
     },
     "execution_count": 287,
     "metadata": {},
     "output_type": "execute_result"
    }
   ],
   "source": [
    "squidward in session"
   ]
  },
  {
   "cell_type": "code",
   "execution_count": 288,
   "metadata": {},
   "outputs": [
    {
     "name": "stdout",
     "output_type": "stream",
     "text": [
      "2022-06-15 12:23:23,056 INFO sqlalchemy.engine.Engine ROLLBACK\n"
     ]
    }
   ],
   "source": [
    "session.rollback()"
   ]
  },
  {
   "cell_type": "code",
   "execution_count": 289,
   "metadata": {},
   "outputs": [
    {
     "data": {
      "text/plain": [
       "{'_sa_instance_state': <sqlalchemy.orm.state.InstanceState at 0x7f1c2a43a350>}"
      ]
     },
     "execution_count": 289,
     "metadata": {},
     "output_type": "execute_result"
    }
   ],
   "source": [
    "sandy.__dict__"
   ]
  },
  {
   "cell_type": "code",
   "execution_count": 290,
   "metadata": {},
   "outputs": [
    {
     "name": "stdout",
     "output_type": "stream",
     "text": [
      "2022-06-15 12:23:45,799 INFO sqlalchemy.engine.Engine BEGIN (implicit)\n",
      "2022-06-15 12:23:45,801 INFO sqlalchemy.engine.Engine SELECT user_account.id AS user_account_id, user_account.name AS user_account_name, user_account.fullname AS user_account_fullname \n",
      "FROM user_account \n",
      "WHERE user_account.id = ?\n",
      "2022-06-15 12:23:45,802 INFO sqlalchemy.engine.Engine [cached since 562.1s ago] (2,)\n"
     ]
    },
    {
     "data": {
      "text/plain": [
       "'Sandy Cheeks'"
      ]
     },
     "execution_count": 290,
     "metadata": {},
     "output_type": "execute_result"
    }
   ],
   "source": [
    "sandy.fullname"
   ]
  },
  {
   "cell_type": "code",
   "execution_count": 291,
   "metadata": {},
   "outputs": [
    {
     "data": {
      "text/plain": [
       "{'_sa_instance_state': <sqlalchemy.orm.state.InstanceState at 0x7f1c2a43a350>,\n",
       " 'id': 2,\n",
       " 'fullname': 'Sandy Cheeks',\n",
       " 'name': 'sandy'}"
      ]
     },
     "execution_count": 291,
     "metadata": {},
     "output_type": "execute_result"
    }
   ],
   "source": [
    "sandy.__dict__"
   ]
  },
  {
   "cell_type": "code",
   "execution_count": 292,
   "metadata": {},
   "outputs": [
    {
     "data": {
      "text/plain": [
       "True"
      ]
     },
     "execution_count": 292,
     "metadata": {},
     "output_type": "execute_result"
    }
   ],
   "source": [
    "patrick in session"
   ]
  },
  {
   "cell_type": "code",
   "execution_count": 293,
   "metadata": {},
   "outputs": [
    {
     "name": "stdout",
     "output_type": "stream",
     "text": [
      "2022-06-15 12:24:46,225 INFO sqlalchemy.engine.Engine SELECT user_account.id, user_account.name, user_account.fullname \n",
      "FROM user_account \n",
      "WHERE user_account.name = ?\n",
      "2022-06-15 12:24:46,227 INFO sqlalchemy.engine.Engine [cached since 3135s ago] ('patrick',)\n"
     ]
    },
    {
     "data": {
      "text/plain": [
       "False"
      ]
     },
     "execution_count": 293,
     "metadata": {},
     "output_type": "execute_result"
    }
   ],
   "source": [
    "session.execute(select(User).where(User.name == \"patrick\")).scalar_one is patrick"
   ]
  },
  {
   "cell_type": "code",
   "execution_count": 294,
   "metadata": {},
   "outputs": [
    {
     "name": "stdout",
     "output_type": "stream",
     "text": [
      "2022-06-15 12:25:03,349 INFO sqlalchemy.engine.Engine ROLLBACK\n"
     ]
    }
   ],
   "source": [
    "session.close()"
   ]
  },
  {
   "cell_type": "code",
   "execution_count": 295,
   "metadata": {},
   "outputs": [
    {
     "ename": "DetachedInstanceError",
     "evalue": "Instance <User at 0x7f1c2a46efe0> is not bound to a Session; attribute refresh operation cannot proceed (Background on this error at: https://sqlalche.me/e/14/bhk3)",
     "output_type": "error",
     "traceback": [
      "\u001b[0;31m---------------------------------------------------------------------------\u001b[0m",
      "\u001b[0;31mDetachedInstanceError\u001b[0m                     Traceback (most recent call last)",
      "\u001b[1;32mセル182 を /workspaces/sqlalchemy_tutorial/notebook/engine.ipynb\u001b[0m in \u001b[0;36m<cell line: 1>\u001b[0;34m()\u001b[0m\n\u001b[0;32m----> <a href='vscode-notebook-cell://dev-container%2B5c5c77736c2e6c6f63616c686f73745c5562756e74752d32302e30345c686f6d655c646b2d64656c6c5c776f726b5c73716c616c6368656d795f7475746f7269616c/workspaces/sqlalchemy_tutorial/notebook/engine.ipynb#ch0000182vscode-remote?line=0'>1</a>\u001b[0m squidward\u001b[39m.\u001b[39;49mname\n",
      "File \u001b[0;32m/workspaces/sqlalchemy_tutorial/.venv/lib/python3.10/site-packages/sqlalchemy/orm/attributes.py:481\u001b[0m, in \u001b[0;36mInstrumentedAttribute.__get__\u001b[0;34m(self, instance, owner)\u001b[0m\n\u001b[1;32m    476\u001b[0m \u001b[39mexcept\u001b[39;00m \u001b[39mAttributeError\u001b[39;00m \u001b[39mas\u001b[39;00m err:\n\u001b[1;32m    477\u001b[0m     util\u001b[39m.\u001b[39mraise_(\n\u001b[1;32m    478\u001b[0m         orm_exc\u001b[39m.\u001b[39mUnmappedInstanceError(instance),\n\u001b[1;32m    479\u001b[0m         replace_context\u001b[39m=\u001b[39merr,\n\u001b[1;32m    480\u001b[0m     )\n\u001b[0;32m--> 481\u001b[0m \u001b[39mreturn\u001b[39;00m \u001b[39mself\u001b[39;49m\u001b[39m.\u001b[39;49mimpl\u001b[39m.\u001b[39;49mget(state, dict_)\n",
      "File \u001b[0;32m/workspaces/sqlalchemy_tutorial/.venv/lib/python3.10/site-packages/sqlalchemy/orm/attributes.py:941\u001b[0m, in \u001b[0;36mAttributeImpl.get\u001b[0;34m(self, state, dict_, passive)\u001b[0m\n\u001b[1;32m    938\u001b[0m \u001b[39mif\u001b[39;00m \u001b[39mnot\u001b[39;00m passive \u001b[39m&\u001b[39m CALLABLES_OK:\n\u001b[1;32m    939\u001b[0m     \u001b[39mreturn\u001b[39;00m PASSIVE_NO_RESULT\n\u001b[0;32m--> 941\u001b[0m value \u001b[39m=\u001b[39m \u001b[39mself\u001b[39;49m\u001b[39m.\u001b[39;49m_fire_loader_callables(state, key, passive)\n\u001b[1;32m    943\u001b[0m \u001b[39mif\u001b[39;00m value \u001b[39mis\u001b[39;00m PASSIVE_NO_RESULT \u001b[39mor\u001b[39;00m value \u001b[39mis\u001b[39;00m NO_VALUE:\n\u001b[1;32m    944\u001b[0m     \u001b[39mreturn\u001b[39;00m value\n",
      "File \u001b[0;32m/workspaces/sqlalchemy_tutorial/.venv/lib/python3.10/site-packages/sqlalchemy/orm/attributes.py:972\u001b[0m, in \u001b[0;36mAttributeImpl._fire_loader_callables\u001b[0;34m(self, state, key, passive)\u001b[0m\n\u001b[1;32m    966\u001b[0m \u001b[39mdef\u001b[39;00m \u001b[39m_fire_loader_callables\u001b[39m(\u001b[39mself\u001b[39m, state, key, passive):\n\u001b[1;32m    967\u001b[0m     \u001b[39mif\u001b[39;00m (\n\u001b[1;32m    968\u001b[0m         \u001b[39mself\u001b[39m\u001b[39m.\u001b[39maccepts_scalar_loader\n\u001b[1;32m    969\u001b[0m         \u001b[39mand\u001b[39;00m \u001b[39mself\u001b[39m\u001b[39m.\u001b[39mload_on_unexpire\n\u001b[1;32m    970\u001b[0m         \u001b[39mand\u001b[39;00m key \u001b[39min\u001b[39;00m state\u001b[39m.\u001b[39mexpired_attributes\n\u001b[1;32m    971\u001b[0m     ):\n\u001b[0;32m--> 972\u001b[0m         \u001b[39mreturn\u001b[39;00m state\u001b[39m.\u001b[39;49m_load_expired(state, passive)\n\u001b[1;32m    973\u001b[0m     \u001b[39melif\u001b[39;00m key \u001b[39min\u001b[39;00m state\u001b[39m.\u001b[39mcallables:\n\u001b[1;32m    974\u001b[0m         callable_ \u001b[39m=\u001b[39m state\u001b[39m.\u001b[39mcallables[key]\n",
      "File \u001b[0;32m/workspaces/sqlalchemy_tutorial/.venv/lib/python3.10/site-packages/sqlalchemy/orm/state.py:710\u001b[0m, in \u001b[0;36mInstanceState._load_expired\u001b[0;34m(self, state, passive)\u001b[0m\n\u001b[1;32m    703\u001b[0m toload \u001b[39m=\u001b[39m \u001b[39mself\u001b[39m\u001b[39m.\u001b[39mexpired_attributes\u001b[39m.\u001b[39mintersection(\u001b[39mself\u001b[39m\u001b[39m.\u001b[39munmodified)\n\u001b[1;32m    704\u001b[0m toload \u001b[39m=\u001b[39m toload\u001b[39m.\u001b[39mdifference(\n\u001b[1;32m    705\u001b[0m     attr\n\u001b[1;32m    706\u001b[0m     \u001b[39mfor\u001b[39;00m attr \u001b[39min\u001b[39;00m toload\n\u001b[1;32m    707\u001b[0m     \u001b[39mif\u001b[39;00m \u001b[39mnot\u001b[39;00m \u001b[39mself\u001b[39m\u001b[39m.\u001b[39mmanager[attr]\u001b[39m.\u001b[39mimpl\u001b[39m.\u001b[39mload_on_unexpire\n\u001b[1;32m    708\u001b[0m )\n\u001b[0;32m--> 710\u001b[0m \u001b[39mself\u001b[39;49m\u001b[39m.\u001b[39;49mmanager\u001b[39m.\u001b[39;49mexpired_attribute_loader(\u001b[39mself\u001b[39;49m, toload, passive)\n\u001b[1;32m    712\u001b[0m \u001b[39m# if the loader failed, or this\u001b[39;00m\n\u001b[1;32m    713\u001b[0m \u001b[39m# instance state didn't have an identity,\u001b[39;00m\n\u001b[1;32m    714\u001b[0m \u001b[39m# the attributes still might be in the callables\u001b[39;00m\n\u001b[1;32m    715\u001b[0m \u001b[39m# dict.  ensure they are removed.\u001b[39;00m\n\u001b[1;32m    716\u001b[0m \u001b[39mself\u001b[39m\u001b[39m.\u001b[39mexpired_attributes\u001b[39m.\u001b[39mclear()\n",
      "File \u001b[0;32m/workspaces/sqlalchemy_tutorial/.venv/lib/python3.10/site-packages/sqlalchemy/orm/loading.py:1369\u001b[0m, in \u001b[0;36mload_scalar_attributes\u001b[0;34m(mapper, state, attribute_names, passive)\u001b[0m\n\u001b[1;32m   1367\u001b[0m session \u001b[39m=\u001b[39m state\u001b[39m.\u001b[39msession\n\u001b[1;32m   1368\u001b[0m \u001b[39mif\u001b[39;00m \u001b[39mnot\u001b[39;00m session:\n\u001b[0;32m-> 1369\u001b[0m     \u001b[39mraise\u001b[39;00m orm_exc\u001b[39m.\u001b[39mDetachedInstanceError(\n\u001b[1;32m   1370\u001b[0m         \u001b[39m\"\u001b[39m\u001b[39mInstance \u001b[39m\u001b[39m%s\u001b[39;00m\u001b[39m is not bound to a Session; \u001b[39m\u001b[39m\"\u001b[39m\n\u001b[1;32m   1371\u001b[0m         \u001b[39m\"\u001b[39m\u001b[39mattribute refresh operation cannot proceed\u001b[39m\u001b[39m\"\u001b[39m \u001b[39m%\u001b[39m (state_str(state))\n\u001b[1;32m   1372\u001b[0m     )\n\u001b[1;32m   1374\u001b[0m has_key \u001b[39m=\u001b[39m \u001b[39mbool\u001b[39m(state\u001b[39m.\u001b[39mkey)\n\u001b[1;32m   1376\u001b[0m result \u001b[39m=\u001b[39m \u001b[39mFalse\u001b[39;00m\n",
      "\u001b[0;31mDetachedInstanceError\u001b[0m: Instance <User at 0x7f1c2a46efe0> is not bound to a Session; attribute refresh operation cannot proceed (Background on this error at: https://sqlalche.me/e/14/bhk3)"
     ]
    }
   ],
   "source": [
    "squidward.name"
   ]
  },
  {
   "cell_type": "code",
   "execution_count": 296,
   "metadata": {},
   "outputs": [
    {
     "name": "stdout",
     "output_type": "stream",
     "text": [
      "2022-06-15 12:25:58,682 INFO sqlalchemy.engine.Engine BEGIN (implicit)\n",
      "2022-06-15 12:25:58,684 INFO sqlalchemy.engine.Engine SELECT user_account.id AS user_account_id, user_account.name AS user_account_name, user_account.fullname AS user_account_fullname \n",
      "FROM user_account \n",
      "WHERE user_account.id = ?\n",
      "2022-06-15 12:25:58,685 INFO sqlalchemy.engine.Engine [cached since 695s ago] (4,)\n"
     ]
    },
    {
     "data": {
      "text/plain": [
       "'squidward'"
      ]
     },
     "execution_count": 296,
     "metadata": {},
     "output_type": "execute_result"
    }
   ],
   "source": [
    "session.add(squidward)\n",
    "squidward.name"
   ]
  },
  {
   "cell_type": "code",
   "execution_count": null,
   "metadata": {},
   "outputs": [],
   "source": []
  }
 ],
 "metadata": {
  "kernelspec": {
   "display_name": "Python 3.10.4 ('.venv': poetry)",
   "language": "python",
   "name": "python3"
  },
  "language_info": {
   "codemirror_mode": {
    "name": "ipython",
    "version": 3
   },
   "file_extension": ".py",
   "mimetype": "text/x-python",
   "name": "python",
   "nbconvert_exporter": "python",
   "pygments_lexer": "ipython3",
   "version": "3.10.4"
  },
  "orig_nbformat": 4,
  "vscode": {
   "interpreter": {
    "hash": "6f9c2f9a58cc4d9af295128933a2aed3b4c99368445644e520156fcd9a70a383"
   }
  }
 },
 "nbformat": 4,
 "nbformat_minor": 2
}
